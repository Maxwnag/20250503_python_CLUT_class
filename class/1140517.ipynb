{
 "cells": [
  {
   "cell_type": "markdown",
   "id": "1e249b5c",
   "metadata": {},
   "source": [
    "#專案\n"
   ]
  },
  {
   "cell_type": "code",
   "execution_count": 3,
   "id": "fc3595be",
   "metadata": {},
   "outputs": [
    {
     "name": "stdout",
     "output_type": "stream",
     "text": [
      "Holle! Funtion\n"
     ]
    },
    {
     "data": {
      "text/plain": [
       "10"
      ]
     },
     "execution_count": 3,
     "metadata": {},
     "output_type": "execute_result"
    }
   ],
   "source": [
    "print  (\"Holle! Funtion\")\n",
    "5+5"
   ]
  }
 ],
 "metadata": {
  "kernelspec": {
   "display_name": "clilee1",
   "language": "python",
   "name": "python3"
  },
  "language_info": {
   "codemirror_mode": {
    "name": "ipython",
    "version": 3
   },
   "file_extension": ".py",
   "mimetype": "text/x-python",
   "name": "python",
   "nbconvert_exporter": "python",
   "pygments_lexer": "ipython3",
   "version": "3.10.16"
  }
 },
 "nbformat": 4,
 "nbformat_minor": 5
}
