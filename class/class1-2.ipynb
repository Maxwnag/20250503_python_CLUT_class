{
  "cells": [
    {
      "cell_type": "markdown",
      "metadata": {
        "colab_type": "text",
        "id": "view-in-github"
      },
      "source": [
        "<a href=\"https://colab.research.google.com/github/Maxwnag/20250503_python_CLUT_class/blob/main/class1.ipynb\" target=\"_parent\"><img src=\"https://colab.research.google.com/assets/colab-badge.svg\" alt=\"Open In Colab\"/></a>"
      ]
    },
    {
      "cell_type": "markdown",
      "metadata": {
        "id": "QOgtU52g1xZY"
      },
      "source": [
        "- 數學運算 + - * /\n",
        "- 流程運算\n",
        "- 基本資料結構 Tuple、List、Dictionary\n",
        "- 結構化程式碼"
      ]
    },
    {
      "cell_type": "code",
      "execution_count": null,
      "metadata": {
        "colab": {
          "base_uri": "https://localhost:8080/"
        },
        "id": "Ku69pNoPM_zg",
        "outputId": "a659008d-8169-4170-f043-2f8921a081dc"
      },
      "outputs": [
        {
          "name": "stdout",
          "output_type": "stream",
          "text": [
            "Holle! python!\n"
          ]
        }
      ],
      "source": [
        "print(\"Holle! python!\")"
      ]
    },
    {
      "cell_type": "code",
      "execution_count": null,
      "metadata": {
        "colab": {
          "base_uri": "https://localhost:8080/"
        },
        "id": "hrQFcyQ4RlLj",
        "outputId": "a79ac31d-037a-4c08-e4f3-7a9230deeb27"
      },
      "outputs": [
        {
          "name": "stdout",
          "output_type": "stream",
          "text": [
            "6\n",
            "1\n",
            "16\n",
            "3.5\n",
            "1\n",
            "27\n",
            "3\n"
          ]
        }
      ],
      "source": [
        "print (3+3)  #加 +\n",
        "print (5-4)  #減 -\n",
        "print (2*8)  #乘 *\n",
        "print (7/2)  #除 /\n",
        "print (7%2)  #餘數 %\n",
        "print (3**3)  #次方 **\n",
        "print (7//2)  #整除 //\n",
        "\n",
        "#運算優先順序 1.() 2.** 3.正負 4. * / % // 5. + - 6. ="
      ]
    },
    {
      "cell_type": "code",
      "execution_count": null,
      "metadata": {
        "colab": {
          "base_uri": "https://localhost:8080/"
        },
        "id": "900VOwWnsbg5",
        "outputId": "2be69cee-2b61-4566-c9e5-fa31908b49fd"
      },
      "outputs": [
        {
          "name": "stdout",
          "output_type": "stream",
          "text": [
            "100\n"
          ]
        }
      ],
      "source": [
        "n=2*(1+2)**2-2**2*2\n",
        "n*=10\n",
        "print(n)\n",
        "\n"
      ]
    },
    {
      "cell_type": "markdown",
      "metadata": {
        "id": "G7IuqBOoMWTp"
      },
      "source": [
        "#int int(input( )) 輸入整數數值\n",
        "\n",
        "#float floatint(input( )) 輸入數值會有小數點\n",
        "\n",
        "#str str(input( )) 輸入字串"
      ]
    },
    {
      "cell_type": "code",
      "execution_count": null,
      "metadata": {
        "colab": {
          "base_uri": "https://localhost:8080/"
        },
        "id": "thSVEZw-HEtI",
        "outputId": "5d6272a8-9f94-4e8c-cd27-01961824c2a5"
      },
      "outputs": [
        {
          "name": "stdout",
          "output_type": "stream",
          "text": [
            "數字30\n",
            "40\n",
            "數字10\n",
            "20.0\n",
            "數字11\n",
            "1110\n"
          ]
        }
      ],
      "source": [
        "a=int(input(\"數字\"))  #整數與浮點數可做運算  int 轉換成整數\n",
        "print (a+10)\n",
        "\n",
        "b=float(input(\"數字\")) #浮點數與整數可做運算  float 轉換成浮點數\n",
        "print (b+10)\n",
        "\n",
        "c=str(input(\"數字\"))  #字串與字串可相加相乘  str\n",
        "print (c+\"10\")"
      ]
    },
    {
      "cell_type": "code",
      "execution_count": null,
      "metadata": {
        "id": "GYeFMXchNemp"
      },
      "outputs": [],
      "source": [
        "import math\n",
        "print(\"求三角形斜邊長\")\n",
        "a=float(input(\"請輸入三角形底邊長:\"))\n",
        "b=float(input(\"請輸入三角形長邊長:\"))\n",
        "c=math.sqrt(a**2+b**2)\n",
        "print(\"三角形斜邊長:\",c)"
      ]
    },
    {
      "cell_type": "markdown",
      "metadata": {
        "id": "LaLIdd4wEv_Z"
      },
      "source": [
        "markdown 語法"
      ]
    },
    {
      "cell_type": "markdown",
      "metadata": {
        "id": "xDq55vGDtxpx"
      },
      "source": [
        "**1**\n",
        "\n",
        "~~2~~\n",
        "\n",
        "- 3\n",
        "\n",
        "_4_\n",
        "\n",
        "# 5\n",
        "\n",
        "## 6\n",
        "\n",
        "### 7\n",
        "\n",
        "#### 8\n",
        "\n",
        "##### 9\n",
        "\n",
        "###### 10"
      ]
    },
    {
      "cell_type": "markdown",
      "metadata": {
        "id": "OiQC-Zoqx4sA"
      },
      "source": [
        "#20250510_class2 學習程式碼\n",
        "* 數學運算\n",
        "* 流程控制\n",
        "\n",
        "# 比較運算式\n",
        "* \" > \"   大於\n",
        "* \" >= \"   大於等於\n",
        "* \" < \"    小於\n",
        "* \" <= \"   小於等於\n",
        "* \" == \"   等於等於\n",
        "* \" != \"   不等於\n",
        "* \" is \"   判斷是否相同\n",
        "* \" is not \" 判斷是否不相同\n",
        "\n",
        "# 條件式\n",
        "* 單項式\n",
        "* 雙項式\n",
        "\n",
        "#### 單項式\n",
        "\n",
        "if 條件\n",
        "\n",
        "  執行程式區塊1\n",
        "\n",
        "  執行程式區塊2\n",
        "\n",
        "#### 雙項式\n",
        "\n",
        "if 條件\n",
        "\n",
        "執行程式區塊1\n",
        "\n",
        "else\n",
        "\n",
        "執行程式區塊2\n",
        "\n",
        "\n"
      ]
    },
    {
      "cell_type": "code",
      "execution_count": null,
      "metadata": {
        "id": "EtFdoIiV3Wo_"
      },
      "outputs": [],
      "source": [
        "5 > 3"
      ]
    },
    {
      "cell_type": "code",
      "execution_count": null,
      "metadata": {
        "id": "pPFRnahF37Iu"
      },
      "outputs": [],
      "source": [
        "5 < 3"
      ]
    },
    {
      "cell_type": "markdown",
      "metadata": {
        "id": "SPUENqRJ5_cN"
      },
      "source": []
    },
    {
      "cell_type": "code",
      "execution_count": null,
      "metadata": {
        "id": "EkxD_QR88XGl"
      },
      "outputs": [],
      "source": [
        "scores =(int(input()))\n",
        "if scores < 60:\n",
        "  print('keep going')\n",
        "elif scores > 60:\n",
        "  print('not bad')\n",
        "elif scores > 80:\n",
        "  print('good')\n",
        "elif scores > 90:\n",
        "  print('very good')\n",
        "else:\n",
        "  print('excellent')"
      ]
    },
    {
      "cell_type": "code",
      "execution_count": null,
      "metadata": {
        "id": "cZXfQQ69B5tk"
      },
      "outputs": [],
      "source": [
        "name= input(\"你的姓名:\")\n",
        "height= input(\"身高(cm):\")\n",
        "weight= input(\"體重(kg):\")\n",
        "bmi= round(int(weight)/(int(height)/100)**2,2)\n",
        "print(\"姓名:\",name,\"身高:\",height,\"體重:\",weight,\"BMI:\",bmi)\n",
        "if bmi<18.5:\n",
        "    print(\"體重過輕\")\n",
        "elif bmi<24:\n",
        "    print(\"正常範圍\")\n",
        "elif bmi<27:\n",
        "    print(\"體重稍重\")\n",
        "elif bmi<30:\n",
        "    print(\"輕度肥胖\")\n",
        "elif bmi<35:\n",
        "    print(\"中度肥胖\")\n",
        "else:\n",
        "    print(\"重度肥胖\")"
      ]
    },
    {
      "cell_type": "markdown",
      "metadata": {
        "id": "6Km761L9KIft"
      },
      "source": [
        "# 邏輯運算式\n",
        "- and  同時滿足條件\n",
        "- or   其一滿足條件\n",
        "- not  不滿足條件"
      ]
    },
    {
      "cell_type": "code",
      "execution_count": null,
      "metadata": {
        "id": "NAax-e0vMdN5"
      },
      "outputs": [],
      "source": [
        "scores = int(input())\n",
        "if (scores <60 ):\n",
        "  print('D')\n",
        "elif scores >= 60 and scores <= 69:\n",
        "  print('C')\n",
        "elif scores >= 70 and scores <= 79:\n",
        "  print('B')\n",
        "elif scores >= 80 and scores <= 89:\n",
        "  print('A')\n",
        "else:\n",
        "  print('A+')"
      ]
    },
    {
      "cell_type": "markdown",
      "metadata": {
        "id": "2sEM6ZfWt6E-"
      },
      "source": [
        "#資料結構\n",
        "\n",
        "### Tuple\n",
        "\n",
        "- 是不可變的，這表示一旦建立 tuple 後，就無法更改其元素。\n",
        "- 使用圓括號 ( ) 來表示，例如 (1, 2, 3)。\n",
        "- 通常用於儲存異質資料，例如不同資料類型的元素。\n",
        "- 較不佔記憶體(暫存)\n",
        "\n",
        "### List\n",
        "\n",
        "- 是可變的，這表示您可以新增、刪除或更改其元素。\n",
        "- 使用方括號 [ ] 來表示，例如 [1, 2, 3]。\n",
        "- 通常用於儲存同質資料，例如相同資料類型的元素。\n",
        "- 較佔記憶體(常存)\n",
        "\n",
        "### dictionary\n",
        "- dictionary 以鍵值對（key-value pair）的方式儲存資料。\n",
        "- 鍵值對都包含一個鍵（key）和一個值（value）。\n",
        "- 鍵(key)用於識別值，值(value)則是用於儲存資料。\n",
        "- 使用大括號 { } 來建立 dictionary，\n",
        "- 並使用冒號 : 來分隔鍵(key)和值(value)。\n",
        "- dictionary = {'key':'value'}"
      ]
    },
    {
      "cell_type": "code",
      "execution_count": null,
      "metadata": {
        "id": "O71JvP8LujJ3"
      },
      "outputs": [],
      "source": [
        "# Tuple\n",
        "my_tuple = (1, 'hello', 3.14)\n",
        "print(my_tuple)  # 輸出: (1, 'hello', 3.14)\n",
        "\n",
        "# List\n",
        "my_list = [1, 'hello', 3.14]\n",
        "print(my_list)  # 輸出: [1, 'hello', 3.14]\n",
        "\n",
        "# 修改 List\n",
        "my_list[0] = 2\n",
        "print(my_list)  # 輸出: [2, 'hello', 3.14]\n",
        "\n",
        "# 修改 Tuple 會導致錯誤\n",
        "# my_tuple[0] = 2  # TypeError: 'tuple' object does not support item assignment\n",
        "\n",
        "#distionry\n",
        "my_dict = {'key': 'value', 'age': 30, 'city': 'New York'}\n",
        "print(my_dict)  # 輸出: {'name': 'John', 'age': 30, 'city': 'New York'}\n",
        "\n",
        "# 輸入key,輸出value\n",
        "print(my_dict['key'])  # 輸出: value\n",
        "print(my_dict['age'])  # 輸出: 30\n",
        "print(my_dict['city'])  # 輸出: New York\n"
      ]
    },
    {
      "cell_type": "code",
      "execution_count": null,
      "metadata": {
        "colab": {
          "base_uri": "https://localhost:8080/"
        },
        "id": "HOxH5gJC1VlE",
        "outputId": "827b83d3-06ba-44c1-e710-93f0339194ee"
      },
      "outputs": [
        {
          "name": "stdout",
          "output_type": "stream",
          "text": [
            "40\n",
            "Noneare\n",
            "41\n",
            "Nonea\n",
            "42\n",
            "Nonea\n",
            "43\n",
            "Nonea\n"
          ]
        }
      ],
      "source": [
        "#explme\n",
        "for stundent in a:\n",
        "  a=[stud1,stud2,stud3,stud4]\n",
        "  stud1={'name': 'Arvin','age':40,'number':'1'}\n",
        "  stud2={'name': 'Ben','age':41,'number':'2'}\n",
        "  stud3={'name': 'Candy','age':42,'number':'3'}\n",
        "  stud4={'name': 'Daniel','age':43,'number':'4'}\n",
        "  a=[stud1,stud2,stud3,stud4]\n",
        "  input(print (stundent['age']))"
      ]
    },
    {
      "cell_type": "markdown",
      "metadata": {
        "id": "DKPfVNKE1VWD"
      },
      "source": []
    },
    {
      "cell_type": "markdown",
      "metadata": {
        "id": "K3kCkix9_7Rb"
      },
      "source": [
        "# 迴圈 & 停止或重複\n",
        "## for in\n",
        "- 在執行開始時，會將迭代物件（列表、元組、字串、字典等）依序指派給迴圈變數。\n",
        "- 迴圈會執行指定的次數，直到迭代完所有元素為止。\n",
        "\n",
        "\n",
        "## while\n",
        "- 每次執行時，只要檢查條件為真，就會重複執行程式碼區塊,條件為假，就結束迴圈。\n",
        "- 通常用於未知迭代次數的情況。\n",
        "\n",
        "## break\n",
        "- 條件達成後停止執行\n",
        "\n",
        "## continue\n",
        "- 條件達成後重複執行\n"
      ]
    },
    {
      "cell_type": "code",
      "execution_count": null,
      "metadata": {
        "colab": {
          "base_uri": "https://localhost:8080/"
        },
        "id": "5GGouC5gABOc",
        "outputId": "09384276-55a6-41ec-be63-830de8c19be9"
      },
      "outputs": [
        {
          "name": "stdout",
          "output_type": "stream",
          "text": [
            "5051\n"
          ]
        }
      ],
      "source": [
        "x = 1\n",
        "for n in range(1,101):\n",
        "  x += n\n",
        "print(x)"
      ]
    },
    {
      "cell_type": "code",
      "execution_count": null,
      "metadata": {
        "colab": {
          "base_uri": "https://localhost:8080/"
        },
        "id": "aQJ0KtpRBvDs",
        "outputId": "55a015eb-5d59-4733-ea38-aaa3a4498bb2"
      },
      "outputs": [
        {
          "name": "stdout",
          "output_type": "stream",
          "text": [
            "請輸入一個數字（輸入 0 結束）：3\n",
            "3\n",
            "請輸入一個數字（輸入 0 結束）：2\n",
            "2\n",
            "請輸入一個數字（輸入 0 結束）：1\n",
            "1\n",
            "請輸入一個數字（輸入 0 結束）：12\n",
            "12\n",
            "請輸入一個數字（輸入 0 結束）：74\n",
            "74\n",
            "請輸入一個數字（輸入 0 結束）：78\n",
            "78\n",
            "請輸入一個數字（輸入 0 結束）：0\n"
          ]
        }
      ],
      "source": [
        "while True:\n",
        "    number = int(input(\"請輸入一個數字（輸入 0 結束）：\"))\n",
        "    if number == 0:\n",
        "        break  #條件達成中止執行\n",
        "    if number < 0:\n",
        "        continue #條件達成重新執行\n",
        "    print(number)"
      ]
    },
    {
      "cell_type": "code",
      "execution_count": null,
      "metadata": {
        "colab": {
          "base_uri": "https://localhost:8080/"
        },
        "id": "-hdq7ddlAwsk",
        "outputId": "be0c7ee1-fc64-49cc-82a1-7317023bdfc0"
      },
      "outputs": [
        {
          "name": "stdout",
          "output_type": "stream",
          "text": [
            "請輸入數字(輸入0結束):30\n",
            "請輸入數字(輸入0結束):1\n",
            "請輸入數字(輸入0結束):2\n",
            "請輸入數字(輸入0結束):5\n",
            "請輸入數字(輸入0結束):6\n",
            "請輸入數字(輸入0結束):7\n",
            "請輸入數字(輸入0結束):8\n",
            "請輸入數字(輸入0結束):1111\n",
            "請輸入數字(輸入0結束):0\n",
            "總和: 1170\n"
          ]
        }
      ],
      "source": [
        "from re import I\n",
        "total = 0\n",
        "while True:\n",
        "  i =int(input(\"請輸入數字(輸入0結束):\"))\n",
        "  if i==0: #條件\n",
        "    break #條件達成後終止迴圈\n",
        "  total += i\n",
        "print(\"總和:\",total)"
      ]
    },
    {
      "cell_type": "markdown",
      "metadata": {
        "id": "IVExTi15I0iP"
      },
      "source": [
        "#亂數\n",
        "\n",
        "## random.randint(a,b)\n",
        "- 亂數 a <= >= b exlp 取1~100間的亂數，則a=1,b=100\n"
      ]
    },
    {
      "cell_type": "code",
      "execution_count": null,
      "metadata": {
        "colab": {
          "base_uri": "https://localhost:8080/"
        },
        "id": "42iKbP3SJjIy",
        "outputId": "9a46a78f-191a-4ab7-dae5-d0b2a44f2bba"
      },
      "outputs": [
        {
          "name": "stdout",
          "output_type": "stream",
          "text": [
            "=====遊戲開始=====\n",
            "\n",
            "請輸入數字(1~10):1\n",
            "1~7\n",
            "請輸入數字(1~10):2\n",
            "2~7\n",
            "請輸入數字(1~10):3\n",
            "3~7\n",
            "請輸入數字(1~10):4\n",
            "4~7\n",
            "請輸入數字(1~10):5\n",
            "5~7\n",
            "請輸入數字(1~10):6\n",
            "6~7\n",
            "請輸入數字(1~10):7\n",
            "YOU WIN_The number is : 7\n",
            "See You Next Time\n"
          ]
        }
      ],
      "source": [
        "import random\n",
        "min = 1\n",
        "max = 10\n",
        "random=random.randint(min,max)\n",
        "print('=====遊戲開始=====\\n')\n",
        "while True:\n",
        "  input_number = int(input(f\"請輸入數字({min}~{max}):\"))\n",
        "  if( input_number == random):\n",
        "   print(f\"YOU WIN_The number is : { input_number }\")\n",
        "   break\n",
        "  elif( input_number < random):\n",
        "   print(f\"{input_number}~{random}\")\n",
        "  else:\n",
        "   print(\"猜錯了，再大一點\")\n",
        "print(\"See You Next Time\")\n"
      ]
    },
    {
      "cell_type": "code",
      "execution_count": null,
      "metadata": {
        "colab": {
          "base_uri": "https://localhost:8080/"
        },
        "id": "0-gZT6q4Se8z",
        "outputId": "eb492545-986d-4fbc-c0ec-bd8fb900c243"
      },
      "outputs": [
        {
          "name": "stdout",
          "output_type": "stream",
          "text": [
            "=====猜數字遊戲開始=========\n",
            "\n",
            "\n",
            "請輸入數字(1~99):50\n",
            "再大一點\n",
            "您已經猜了:1次\n",
            "\n",
            "請輸入數字(51~99):80\n",
            "再大一點\n",
            "您已經猜了:2次\n",
            "\n",
            "請輸入數字(81~99):90\n",
            "再大一點\n",
            "您已經猜了:3次\n",
            "\n",
            "請輸入數字(91~99):95\n",
            "再小一點\n",
            "您已經猜了:4次\n",
            "\n",
            "請輸入數字(91~94):93\n",
            "再小一點\n",
            "您已經猜了:5次\n",
            "\n",
            "請輸入數字(91~92):92\n",
            "賓果!猜對了, 答案是:92\n",
            "您猜了:6次\n",
            "Game Over\n"
          ]
        }
      ],
      "source": [
        "import random\n",
        "min = 1\n",
        "max = 99\n",
        "count = 0\n",
        "random_number = random.randint(min,max)\n",
        "#print(random_number)\n",
        "print(\"=====猜數字遊戲開始=========\\n\\n\")\n",
        "while True:\n",
        "  input_number = int(input(f\"請輸入數字({min}~{max}):\"))\n",
        "  count += 1\n",
        "  if(input_number == random_number):\n",
        "    print(f\"賓果!猜對了, 答案是:{input_number}\")\n",
        "    print(f\"您猜了:{count}次\")\n",
        "    break\n",
        "  elif(input_number>random_number):\n",
        "    print(f\"再小一點\")\n",
        "    max = input_number - 1\n",
        "  elif(input_number<random_number):\n",
        "    print(f\"再大一點\")\n",
        "    min = input_number + 1\n",
        "\n",
        "  print(f\"您已經猜了:{count}次\\n\")\n",
        "\n",
        "\n",
        "print(\"Game Over\")"
      ]
    },
    {
      "cell_type": "markdown",
      "metadata": {},
      "source": [
        "優化成下方程式"
      ]
    },
    {
      "cell_type": "code",
      "execution_count": null,
      "metadata": {},
      "outputs": [],
      "source": [
        "import random\n",
        "def play_game():\n",
        "  min = 1\n",
        "  max = 30\n",
        "  count = 0\n",
        "  target = random.randint(1, 100)\n",
        "  print(\"===============猜數字遊戲=================:\\n\")\n",
        "  while(True):\n",
        "     count += 1\n",
        "     keyin = int(input(\"猜數字範圍{0}~{1}:\".format(min, max)))\n",
        "     if(keyin >=min and keyin <= max):\n",
        "         if(keyin == target):\n",
        "             print(\"賓果!猜對了, 答案是:\", target)\n",
        "             print(\"您猜了\",count,\"次\")\n",
        "             break\n",
        "         elif (keyin > target):\n",
        "            max = keyin\n",
        "            print(\"再小一點\")\n",
        "         elif (keyin < target):\n",
        "            min = keyin\n",
        "            print(\"再大一點\")\n",
        "         print(\"您猜了\",count,\"次\\n\")\n",
        "     else:\n",
        "        print(\"請輸入提示範圍內的數字\")\n",
        "while True :\n",
        " play_game()\n",
        " again = input(\"play again(y,n):\")\n",
        " if (again == 'y'):\n",
        "    print('try again')\n",
        " if (again == 'n'):\n",
        "    break\n",
        "    print(\"game over\")\n",
        " elif (again != 'y' or 'n'):\n",
        "    print('please input y or n')"
      ]
    },
    {
      "cell_type": "markdown",
      "metadata": {
        "id": "E1JWaUSLz1q-"
      },
      "source": [
        "#20250517_class3\n",
        "## 軟體 :\n",
        "- anaconda 適合初學者開發，但是檔案較大\n",
        "- pycharm  要付費\n",
        "- visual studio code 免費開源軟體\n"
      ]
    },
    {
      "cell_type": "markdown",
      "metadata": {
        "id": "JHvbjg7UCJpg"
      },
      "source": [
        "## visual studio code\n",
        "- 安裝插件\n",
        "git\n",
        "基本設定指令(使用cmd)\n",
        "\n",
        "git config - -global user.name \"name\"\n",
        "\n",
        "git config - -global user.email \"mail\"\n",
        "\n",
        "git config - -global pull.rebase false\n",
        "\n",
        "git config - -global credential.name \"github的帳號\"\n",
        "\n",
        "git config - -list (檢查設定)"
      ]
    },
    {
      "cell_type": "markdown",
      "metadata": {
        "id": "Sl4KUm_KUI-X"
      },
      "source": [
        "# conda\n",
        "- 建立新環境     conda create -n [env-name]\n",
        "- 列出所有環境    conda info --envs      \n",
        "- 列出所有環境    conda env list        \n",
        "- 建立環境與命名   conda create -n [<clilee1] [python=3.10]  \n",
        "- 刪除環境      conda env remove  [clilee1]\n",
        "- 進入環境      conda activate [clilee1]    \n",
        "- 離開環境      conda deactivate        \n",
        "- 安裝套件      conda install --name [clilee1] [matplotlib]\n",
        "- 刪除套件      conda remove --name [clilee1] [matplotlib]\n",
        "- 檢查版本      conda --version   \n",
        "- 更新版本      conda update conda\n",
        "- 取消開始進虛擬環境 conda config --set auto_activate_base false\n"
      ]
    },
    {
      "cell_type": "markdown",
      "metadata": {},
      "source": [
        "# 老師程式碼"
      ]
    },
    {
      "cell_type": "code",
      "execution_count": null,
      "metadata": {},
      "outputs": [],
      "source": [
        "#import edu\n",
        "#from edu.tools import caculate_bmi,get_state\n",
        "from edu.tools import caculate_bmi as a1\n",
        "from edu.tools import get_state as a2\n",
        "\n",
        "def main():\n",
        "    height:int = int(input(\"請輸入身高(cm):\"))\n",
        "    weight:int = int(input(\"請輸入體重(kg):\"))\n",
        "\n",
        "    bmi = a1(height, weight)\n",
        "\n",
        "    print(bmi)\n",
        "    print(a2(bmi))\n",
        "\n",
        "\n",
        "if __name__ == '__main__':\n",
        "    main()"
      ]
    },
    {
      "cell_type": "code",
      "execution_count": null,
      "metadata": {},
      "outputs": [],
      "source": [
        "# 如何呼叫function\n",
        "def menu(wine:str,entree:str,dessert:str)->None:\n",
        "    print(f\"前酒:{wine}\")\n",
        "    print(f\"主餐:{entree}\")\n",
        "    print(f\"甜點:{dessert}\")"
      ]
    },
    {
      "cell_type": "code",
      "execution_count": null,
      "metadata": {},
      "outputs": [],
      "source": [
        "#引數值的呼叫\n",
        "#要依照參數的順序\n",
        "menu(\"白酒\",\"牛排\",\"蛋糕\")"
      ]
    },
    {
      "cell_type": "code",
      "execution_count": null,
      "metadata": {},
      "outputs": [],
      "source": [
        "#可以不依照順序\n",
        "menu(entree='牛排',dessert='蛋糕',wine='白酒')"
      ]
    },
    {
      "cell_type": "code",
      "execution_count": null,
      "metadata": {},
      "outputs": [],
      "source": [
        "#混合呼叫\n",
        "#前面使用引數值的呼叫\n",
        "#後面使用引數名稱的呼叫\n",
        "#引數名稱後,全部都要用引數名稱\n",
        "menu('白酒',dessert='蛋糕',entree='牛排')"
      ]
    },
    {
      "cell_type": "code",
      "execution_count": null,
      "metadata": {},
      "outputs": [],
      "source": [
        "#定義的function參數,可以有預設值\n",
        "#預設值一定放在最後\n",
        "def menu(wine:str,entree:str,dessert:str='奶昔')->None:\n",
        "    print(f\"前酒:{wine}\")\n",
        "    print(f\"主餐:{entree}\")\n",
        "    print(f\"甜點:{dessert}\")"
      ]
    },
    {
      "cell_type": "code",
      "execution_count": null,
      "metadata": {},
      "outputs": [],
      "source": [
        "#呼叫時,有預設值的參數,可以省略引數值\n",
        "menu('白酒','牛排')"
      ]
    },
    {
      "cell_type": "code",
      "execution_count": null,
      "metadata": {},
      "outputs": [],
      "source": [
        "menu('白酒','牛排',dessert=\"蛋糕\")"
      ]
    },
    {
      "cell_type": "code",
      "execution_count": null,
      "metadata": {},
      "outputs": [],
      "source": [
        "def menu(wine:str,entree:str='雞排',dessert:str='奶昔')->None:\n",
        "    print(f\"前酒:{wine}\")\n",
        "    print(f\"主餐:{entree}\")\n",
        "    print(f\"甜點:{dessert}\")\n",
        "menu('白酒')"
      ]
    },
    {
      "cell_type": "code",
      "execution_count": null,
      "metadata": {},
      "outputs": [],
      "source": [
        "menu('白酒',dessert=\"蛋糕\")"
      ]
    },
    {
      "cell_type": "code",
      "execution_count": 6,
      "metadata": {},
      "outputs": [
        {
          "name": "stdout",
          "output_type": "stream",
          "text": [
            "前酒:白酒\n",
            "主餐:牛排\n",
            "甜點:蛋糕\n",
            "前酒:白酒\n",
            "主餐:牛排\n",
            "甜點:蛋糕\n",
            "前酒:白酒\n",
            "主餐:牛排\n",
            "甜點:蛋糕\n",
            "前酒:白酒\n",
            "主餐:牛排\n",
            "甜點:奶昔\n",
            "前酒:白酒\n",
            "主餐:牛排\n",
            "甜點:蛋糕\n",
            "前酒:白酒\n",
            "主餐:雞排\n",
            "甜點:奶昔\n",
            "前酒:白酒\n",
            "主餐:雞排\n",
            "甜點:蛋糕\n"
          ]
        }
      ],
      "source": [
        "\n",
        "    \n",
        "\n",
        "#前酒:白酒\n",
        "#主餐:牛排\n",
        "#甜點:蛋糕\n",
        "#引數名稱的呼叫\n",
        "\n",
        "#前酒:白酒\n",
        "#主餐:牛排\n",
        "#甜點:蛋糕\n",
        "\n",
        "#前酒:白酒\n",
        "#主餐:牛排\n",
        "#甜點:蛋糕\n",
        "\n",
        "\n",
        "#前酒:白酒\n",
        "#主餐:牛排\n",
        "#甜點:奶昔\n",
        "\n",
        "#前酒:白酒\n",
        "#主餐:牛排\n",
        "#甜點:蛋糕\n",
        "\n",
        "#前酒:白酒\n",
        "#主餐:雞排\n",
        "#甜點:奶昔\n",
        "\n",
        "#前酒:白酒\n",
        "#主餐:雞排\n",
        "#甜點:蛋糕\n"
      ]
    },
    {
      "cell_type": "code",
      "execution_count": null,
      "metadata": {},
      "outputs": [],
      "source": [
        "\n",
        "#參數名稱\n",
        "#沒有限定數量的引數名稱呼叫\n",
        "def print_kwargs(**kwargs):\n",
        "    #dictionary詞典物件\n",
        "    print(kwargs)\n",
        "print_kwargs(one=1, two=2, three=3, four=4, five=5)\n",
        "{'one': 1, 'two': 2, 'three': 3, 'four': 4, 'five': 5}\n",
        "def print_all(*args, **kwargs):\n",
        "    print(args)\n",
        "    print(kwargs)\n",
        "print_all(1, 2, 3, 'a', 'b', 'c', True, False,one=1, two=2, three=3, four=4, five=5)\n",
        "(1, 2, 3, 'a', 'b', 'c', True, False)\n",
        "{'one': 1, 'two': 2, 'three': 3, 'four': 4, 'five': 5}\n",
        "print(1, 2, 3, 'a', 'b', 'c', True, False,end='結束\\n',sep='-')\n",
        "1-2-3-a-b-c-True-False結束"
      ]
    },
    {
      "cell_type": "code",
      "execution_count": 3,
      "metadata": {},
      "outputs": [
        {
          "ename": "SyntaxError",
          "evalue": "invalid syntax (3434312333.py, line 1)",
          "output_type": "error",
          "traceback": [
            "  \u001b[36mCell\u001b[39m\u001b[36m \u001b[39m\u001b[32mIn[3]\u001b[39m\u001b[32m, line 1\u001b[39m\n\u001b[31m    \u001b[39m\u001b[31m@@ -0,0 +1,25 @@{ \"cells\": [  {   \"cell_type\": \"markdown\",   \"id\": \"5489f2fd\",   \"metadata\": {},   \"source\": [    \"https://www.perplexity.ai/search/216f82f2-9e19-4f29-bb0e-bdbfb083b51b\"   ]  } ], \"metadata\": {  \"kernelspec\": {   \"display_name\": \"chihlee1\",   \"language\": \"python\",   \"name\": \"python3\"  },  \"language_info\": {   \"name\": \"python\",   \"version\": \"3.10.16\"  } }, \"nbformat\": 4, \"nbformat_minor\": 5}\u001b[39m\n     ^\n\u001b[31mSyntaxError\u001b[39m\u001b[31m:\u001b[39m invalid syntax\n"
          ]
        }
      ],
      "source": [
        "@@ -0,0 +1,25 @@{ \"cells\": [  {   \"cell_type\": \"markdown\",   \"id\": \"5489f2fd\",   \"metadata\": {},   \"source\": [    \"https://www.perplexity.ai/search/216f82f2-9e19-4f29-bb0e-bdbfb083b51b\"   ]  } ], \"metadata\": {  \"kernelspec\": {   \"display_name\": \"chihlee1\",   \"language\": \"python\",   \"name\": \"python3\"  },  \"language_info\": {   \"name\": \"python\",   \"version\": \"3.10.16\"  } }, \"nbformat\": 4, \"nbformat_minor\": 5}\n",
        "0 commit commentsComments0"
      ]
    },
    {
      "cell_type": "code",
      "execution_count": 2,
      "metadata": {},
      "outputs": [
        {
          "ename": "SyntaxError",
          "evalue": "invalid syntax (3087648604.py, line 1)",
          "output_type": "error",
          "traceback": [
            "  \u001b[36mCell\u001b[39m\u001b[36m \u001b[39m\u001b[32mIn[2]\u001b[39m\u001b[32m, line 1\u001b[39m\n\u001b[31m    \u001b[39m\u001b[31m@@ -1,12 +1,331 @@\u001b[39m\n     ^\n\u001b[31mSyntaxError\u001b[39m\u001b[31m:\u001b[39m invalid syntax\n"
          ]
        }
      ],
      "source": [
        "@@ -1,12 +1,331 @@\n",
        "{\n",
        " \"cells\": [\n",
        "  {\n",
        "   \"cell_type\": \"markdown\",\n",
        "   \"id\": \"5489f2fd\",\n",
        "   \"metadata\": {},\n",
        "   \"source\": [\n",
        "    \"https://www.perplexity.ai/search/216f82f2-9e19-4f29-bb0e-bdbfb083b51b\"\n",
        "   ]"
      ]
    },
    {
      "cell_type": "code",
      "execution_count": null,
      "metadata": {},
      "outputs": [
        {
          "ename": "IndentationError",
          "evalue": "unexpected indent (917210203.py, line 1)",
          "output_type": "error",
          "traceback": [
            "  \u001b[36mCell\u001b[39m\u001b[36m \u001b[39m\u001b[32mIn[5]\u001b[39m\u001b[32m, line 1\u001b[39m\n\u001b[31m    \u001b[39m\u001b[31m{More actions\u001b[39m\n    ^\n\u001b[31mIndentationError\u001b[39m\u001b[31m:\u001b[39m unexpected indent\n"
          ]
        }
      ],
      "source": [
        " {More actions\n",
        " \"cells\": [\n",
        "  {\n",
        "   \"cell_type\": \"markdown\",\n",
        "   \"id\": \"5489f2fd\",\n",
        "   \"metadata\": {},\n",
        "   \"source\": [\n",
        "    \"https://www.perplexity.ai/search/216f82f2-9e19-4f29-bb0e-bdbfb083b51b\"\n",
        "   ]\n",
        "   },Add commentMore actions\n",
        "  {\n",
        "   \"cell_type\": \"code\",\n",
        "   \"execution_count\": 2,\n",
        "   \"id\": \"995180e9\",\n",
        "   \"metadata\": {},\n",
        "   \"outputs\": [\n",
        "    {\n",
        "     \"name\": \"stdout\",\n",
        "     \"output_type\": \"stream\",\n",
        "     \"text\": [\n",
        "      \"陳怡伶\\n\",\n",
        "      \"馮芳如\\n\",\n",
        "      \"蒙淑惠\\n\",\n",
        "      \"張軒宸\\n\",\n",
        "      \"陳向愛\\n\",\n",
        "      \"賴心怡\\n\",\n",
        "      \"王怡珊\\n\",\n",
        "      \"林詠斌\\n\",\n",
        "      \"陳淑娟\\n\",\n",
        "      \"崔孝憲\\n\",\n",
        "      \"林希啟\\n\",\n",
        "      \"楊韋廷\\n\",\n",
        "      \"陳文賢\\n\",\n",
        "      \"王士銘\\n\",\n",
        "      \"賴昌韻\\n\",\n",
        "      \"黃名明\\n\",\n",
        "      \"吳麗卿\\n\",\n",
        "      \"游治旺\\n\",\n",
        "      \"蔡嘉音\\n\",\n",
        "      \"黃靜怡\\n\",\n",
        "      \"黃淑芬\\n\",\n",
        "      \"龔姵君\\n\",\n",
        "      \"景歡燦\\n\",\n",
        "      \"李政成\\n\",\n",
        "      \"楊綺芬\\n\",\n",
        "      \"昌嘉洋\\n\",\n",
        "      \"李慈啟\\n\",\n",
        "      \"游倫城\\n\",\n",
        "      \"林淑安\\n\",\n",
        "      \"蔡士賢\\n\",\n",
        "      \"林世城\\n\",\n",
        "      \"林佳蓉\\n\",\n",
        "      \"柯宜臻\\n\",\n",
        "      \"傅佳琳\\n\",\n",
        "      \"林瑞喬\\n\",\n",
        "      \"林佳慧\\n\",\n",
        "      \"鍾俞禎\\n\",\n",
        "      \"劉慧君\\n\",\n",
        "      \"劉林中\\n\",\n",
        "      \"林怡偉\\n\",\n",
        "      \"余丞苓\\n\",\n",
        "      \"黃佩玲\\n\",\n",
        "      \"林建宏\\n\",\n",
        "      \"方雅慧\\n\",\n",
        "      \"林柏洋\\n\",\n",
        "      \"郭舜昇\\n\",\n",
        "      \"艾巧夫\\n\",\n",
        "      \"童建霖\\n\",\n",
        "      \"蔡至剛\\n\",\n",
        "      \"黃心航\\n\",\n",
        "      \"張凡成\\n\",\n",
        "      \"郭淑枝\\n\",\n",
        "      \"黃必琪\\n\",\n",
        "      \"楊健麟\\n\",\n",
        "      \"林建勳\\n\",\n",
        "      \"鄭琇亞\\n\",\n",
        "      \"王雅琴\\n\",\n",
        "      \"李美洋\\n\",\n",
        "      \"楊少亮\\n\",\n",
        "      \"王泓泰\\n\",\n",
        "      \"黃江旭\\n\",\n",
        "      \"王梅劭\\n\",\n",
        "      \"林佳光\\n\",\n",
        "      \"盧必妍\\n\",\n",
        "      \"林思賢\\n\",\n",
        "      \"鄧哲榮\\n\",\n",
        "      \"陳家年\\n\",\n",
        "      \"張俊傑\\n\",\n",
        "      \"洪阿惠\\n\",\n",
        "      \"陳彥治\\n\",\n",
        "      \"盧冠發\\n\",\n",
        "      \"程玫靖\\n\",\n",
        "      \"潘俊賢\\n\",\n",
        "      \"呂傑宣\\n\",\n",
        "      \"鄭孟芳\\n\",\n",
        "      \"彭茹靖\\n\",\n",
        "      \"王孝純\\n\",\n",
        "      \"吳昕婷\\n\",\n",
        "      \"朱惠儀\\n\",\n",
        "      \"盧文啟\\n\",\n",
        "      \"謝佳穎\\n\",\n",
        "      \"鄭憲定\\n\",\n",
        "      \"馮淑芬\\n\",\n",
        "      \"聶心怡\\n\",\n",
        "      \"黃志福\\n\",\n",
        "      \"馬彥文\\n\",\n",
        "      \"郭淑真\\n\",\n",
        "      \"吳欣書\\n\",\n",
        "      \"鄭佳玲\\n\",\n",
        "      \"黃健發\\n\",\n",
        "      \"胡姿婷\\n\",\n",
        "      \"林義皓\\n\",\n",
        "      \"胡芳瑜\\n\",\n",
        "      \"楊易政\\n\",\n",
        "      \"王德城\\n\",\n",
        "      \"劉依婷\\n\",\n",
        "      \"吳俐芷\\n\",\n",
        "      \"黃詩妃\\n\",\n",
        "      \"柯韋成\\n\",\n",
        "      \"鄧亭聿\\n\",\n",
        "      \"王雅慧\\n\",\n",
        "      \"陳凱翔\\n\",\n",
        "      \"藍哲嘉\\n\",\n",
        "      \"趙偉銘\\n\",\n",
        "      \"張韋成\\n\",\n",
        "      \"林向鈺\\n\",\n",
        "      \"周琬婷\\n\",\n",
        "      \"尚偉倫\\n\",\n",
        "      \"賴佳雯\\n\",\n",
        "      \"陳姵彬\\n\",\n",
        "      \"林群清\\n\",\n",
        "      \"趙家豪\\n\",\n",
        "      \"李政白\\n\",\n",
        "      \"林俊翔\\n\",\n",
        "      \"李進慧\\n\",\n",
        "      \"楊韻如\\n\",\n",
        "      \"藍姿婷\\n\",\n",
        "      \"劉嘉泰\\n\",\n",
        "      \"王柏聖\\n\",\n",
        "      \"孫宜珊\\n\",\n",
        "      \"戴萱能\\n\",\n",
        "      \"高士凱\\n\",\n",
        "      \"楊又源\\n\",\n",
        "      \"劉昀天\\n\",\n",
        "      \"王怡君\\n\",\n",
        "      \"余月修\\n\",\n",
        "      \"劉萬季\\n\",\n",
        "      \"陳信宏\\n\",\n",
        "      \"陳孝邦\\n\",\n",
        "      \"朱彥志\\n\",\n",
        "      \"陳奇瑄\\n\",\n",
        "      \"鄧淑娟\\n\",\n",
        "      \"陳逸凡\\n\",\n",
        "      \"張牧聿\\n\",\n",
        "      \"唐雪豪\\n\",\n",
        "      \"林康亮\\n\",\n",
        "      \"黃旻林\\n\",\n",
        "      \"蕭淑華\\n\",\n",
        "      \"劉雯芬\\n\",\n",
        "      \"陳美惠\\n\",\n",
        "      \"孫火清\\n\",\n",
        "      \"溫法堯\\n\",\n",
        "      \"錢欣潔\\n\",\n",
        "      \"陳倩潔\\n\",\n",
        "      \"李雅怡\\n\",\n",
        "      \"白美珍\\n\",\n",
        "      \"葉志峰\\n\",\n",
        "      \"黃佩芬\\n\",\n",
        "      \"黃麗美\\n\",\n",
        "      \"黃奎紹\\n\",\n",
        "      \"邱亭君\\n\",\n",
        "      \"詹忠光\\n\",\n",
        "      \"戚亨\\n\",\n",
        "      \"賴又琦\\n\",\n",
        "      \"林佳人\\n\",\n",
        "      \"黃善迪\\n\",\n",
        "      \"賴苑禾\\n\",\n",
        "      \"溫重意\\n\",\n",
        "      \"周怡啟\\n\",\n",
        "      \"王明昇\\n\",\n",
        "      \"羅佩樺\\n\",\n",
        "      \"陳家維\\n\",\n",
        "      \"張莉雯\\n\",\n",
        "      \"高俊男\\n\",\n",
        "      \"林冠蕙\\n\",\n",
        "      \"王品星\\n\",\n",
        "      \"吳孟穎\\n\",\n",
        "      \"黃雅慧\\n\",\n",
        "      \"馮耀中\\n\",\n",
        "      \"元延辛\\n\",\n",
        "      \"王坤安\\n\",\n",
        "      \"陳慧君\\n\",\n",
        "      \"張伊映\\n\",\n",
        "      \"林士凱\\n\",\n",
        "      \"蘇婷婷\\n\",\n",
        "      \"陳淑萍\\n\",\n",
        "      \"林玉佩\\n\",\n",
        "      \"謝貞妃\\n\",\n",
        "      \"杜儀鳳\\n\",\n",
        "      \"陳倩妮\\n\",\n",
        "      \"胡淑貞\\n\",\n",
        "      \"楊偉翔\\n\",\n",
        "      \"姜琬婷\\n\",\n",
        "      \"張雅芬\\n\",\n",
        "      \"葉祖雄\\n\",\n",
        "      \"沈心利\\n\",\n",
        "      \"彭虹屏\\n\",\n",
        "      \"余宗儒\\n\",\n",
        "      \"李立偉\\n\",\n",
        "      \"臧怡君\\n\",\n",
        "      \"吳振瑋\\n\",\n",
        "      \"陳建豪\\n\",\n",
        "      \"蕭怡伶\\n\",\n",
        "      \"周芷蓁\\n\",\n",
        "      \"黃偉剛\\n\",\n",
        "      \"黃婷婷\\n\",\n",
        "      \"郎慧萍\\n\",\n",
        "      \"林昱芳\\n\",\n",
        "      \"趙宛真\\n\",\n",
        "      \"白世宏\\n\",\n",
        "      \"杜明延\\n\",\n",
        "      \"許淑婷\\n\",\n",
        "      \"林珍旺\\n\",\n",
        "      \"蔡孟泉\\n\",\n",
        "      \"吳晴洋\\n\",\n",
        "      \"游一鈺\\n\",\n",
        "      \"朱士弘\\n\",\n",
        "      \"黃政甫\\n\",\n",
        "      \"游淑惠\\n\",\n",
        "      \"張婕妤\\n\",\n",
        "      \"陳逸華\\n\",\n",
        "      \"張天亨\\n\",\n",
        "      \"張嘉韋\\n\",\n",
        "      \"王志謙\\n\",\n",
        "      \"黎惠雯\\n\",\n",
        "      \"高信宏\\n\",\n",
        "      \"梁柏宇\\n\",\n",
        "      \"林志喜\\n\",\n",
        "      \"金宜芳\\n\",\n",
        "      \"簡國瑋\\n\",\n",
        "      \"林清英\\n\",\n",
        "      \"黃彥孝\\n\",\n",
        "      \"鄭奇翰\\n\",\n",
        "      \"李慶亮\\n\",\n",
        "      \"李蓉瑞\\n\",\n",
        "      \"張明惟\\n\",\n",
        "      \"游詩亞\\n\",\n",
        "      \"黃嘉琪\\n\",\n",
        "      \"張家秀\\n\",\n",
        "      \"吳柏誠\\n\",\n",
        "      \"陳得映\\n\",\n",
        "      \"郭致恬\\n\",\n",
        "      \"林麗萍\\n\",\n",
        "      \"陳樂紫\\n\",\n",
        "      \"翁鈺婷\\n\",\n",
        "      \"蔡世馨\\n\",\n",
        "      \"楊建安\\n\",\n",
        "      \"李湘婷\\n\",\n",
        "      \"鞠冠宇\\n\",\n",
        "      \"林志成\\n\",\n",
        "      \"陳信念\\n\",\n",
        "      \"林益妏\\n\",\n",
        "      \"蔡偉成\\n\",\n",
        "      \"王惠皓\\n\",\n",
        "      \"王筱婷\\n\",\n",
        "      \"楊火帆\\n\",\n",
        "      \"陳怡珊\\n\",\n",
        "      \"張慧君\\n\",\n",
        "      \"翁羽威\\n\",\n",
        "      \"羅幸娥\\n\",\n",
        "      \"陳俊憲\\n\",\n",
        "      \"洪奎夫\\n\",\n",
        "      \"翁均安\\n\",\n",
        "      \"吳明妮\\n\",\n",
        "      \"高智超\\n\",\n",
        "      \"王人仰\\n\",\n",
        "      \"劉旭士\\n\",\n",
        "      \"蘇凡菁\\n\",\n",
        "      \"謝哲維\\n\",\n",
        "      \"彭偉妃\\n\",\n",
        "      \"劉耿琦\\n\",\n",
        "      \"黃柏宇\\n\",\n",
        "      \"李佳彥\\n\",\n",
        "      \"唐翊修\\n\",\n",
        "      \"陳建香\\n\",\n",
        "      \"葉軍仰\\n\",\n",
        "      \"吳志宣\\n\",\n",
        "      \"林珈發\\n\",\n",
        "      \"黃翔杰\\n\",\n",
        "      \"郭坤花\\n\",\n",
        "      \"吳淑惠\\n\",\n",
        "      \"簡美君\\n\",\n",
        "      \"許芳如\\n\",\n",
        "      \"謝水儒\\n\",\n",
        "      \"陳怡容\\n\",\n",
        "      \"蔡欣汝\\n\",\n",
        "      \"王良斌\\n\",\n",
        "      \"周家銘\\n\",\n",
        "      \"張凱妮\\n\",\n",
        "      \"鄭淑珍\\n\",\n",
        "      \"陳嘉淑\\n\",\n",
        "      \"魏秋萍\\n\",\n",
        "      \"簡佳樺\\n\",\n",
        "      \"劉佳佩\\n\",\n",
        "      \"李彥伸\\n\",\n",
        "      \"陳筱涵\\n\",\n",
        "      \"蔡明平\\n\",\n",
        "      \"王展人\\n\",\n",
        "      \"方筠紹\\n\",\n",
        "      \"陳志偉\\n\",\n",
        "      \"錢佩豪\\n\",\n",
        "      \"陳冠霞\\n\",\n",
        "      \"潘英迪\\n\",\n",
        "      \"陳冠竹\\n\",\n",
        "      \"李淑芳\\n\",\n",
        "      \"謝南慧\\n\",\n",
        "      \"趙家豪\\n\",\n",
        "      \"龐皓芳\\n\",\n",
        "      \"張彥博\\n\"\n",
        "     ]\n",
        "    }\n",
        "   ],\n",
        "   \"source\": [\n",
        "    \"# 使用 with 語法開啟檔案，確保讀取完後自動關閉檔案\\n\",\n",
        "    \"with open(\\\"names.txt\\\", \\\"r\\\", encoding=\\\"utf-8\\\") as f:\\n\",\n",
        "    \"    content = f.read()  # 一次讀取全部內容，回傳字串\\n\",\n",
        "    \"    print(content)\\n\"\n",
        "   ]\n",
        "  }\n",
        " ],\n",
        " \"metadata\": {\n",
        "@@ -16,7 +335,15 @@\n",
        "   \"name\": \"python3\"\n",
        "  },\n",
        "  \"language_info\": {\n",
        "   \"codemirror_mode\": {\n",
        "    \"name\": \"ipython\",\n",
        "    \"version\": 3\n",
        "   },\n",
        "   \"file_extension\": \".py\",\n",
        "   \"mimetype\": \"text/x-python\",\n",
        "   \"name\": \"python\",\n",
        "   \"nbconvert_exporter\": \"python\",\n",
        "   \"pygments_lexer\": \"ipython3\",\n",
        "   \"version\": \"3.10.16\"\n",
        "  }\n",
        " },"
      ]
    },
    {
      "cell_type": "markdown",
      "metadata": {},
      "source": [
        "陳怡伶\n",
        "馮芳如\n",
        "蒙淑惠\n",
        "張軒宸\n",
        "陳向愛\n",
        "賴心怡\n",
        "王怡珊\n",
        "林詠斌\n",
        "陳淑娟\n",
        "崔孝憲\n",
        "林希啟\n",
        "楊韋廷\n",
        "陳文賢\n",
        "王士銘\n",
        "賴昌韻\n",
        "黃名明\n",
        "吳麗卿\n",
        "游治旺\n",
        "蔡嘉音\n",
        "黃靜怡\n",
        "黃淑芬\n",
        "龔姵君\n",
        "景歡燦\n",
        "李政成\n",
        "楊綺芬\n",
        "昌嘉洋\n",
        "李慈啟\n",
        "游倫城\n",
        "林淑安\n",
        "蔡士賢\n",
        "林世城\n",
        "林佳蓉\n",
        "柯宜臻\n",
        "傅佳琳\n",
        "林瑞喬\n",
        "林佳慧\n",
        "鍾俞禎\n",
        "劉慧君\n",
        "劉林中\n",
        "林怡偉\n",
        "余丞苓\n",
        "黃佩玲\n",
        "林建宏\n",
        "方雅慧\n",
        "林柏洋\n",
        "郭舜昇\n",
        "艾巧夫\n",
        "童建霖\n",
        "蔡至剛\n",
        "黃心航\n",
        "張凡成\n",
        "郭淑枝\n",
        "黃必琪\n",
        "楊健麟\n",
        "林建勳\n",
        "鄭琇亞\n",
        "王雅琴\n",
        "李美洋\n",
        "楊少亮\n",
        "王泓泰\n",
        "黃江旭\n",
        "王梅劭\n",
        "林佳光\n",
        "盧必妍\n",
        "林思賢\n",
        "鄧哲榮\n",
        "陳家年\n",
        "張俊傑\n",
        "洪阿惠\n",
        "陳彥治\n",
        "盧冠發\n",
        "程玫靖\n",
        "潘俊賢\n",
        "呂傑宣\n",
        "鄭孟芳\n",
        "彭茹靖\n",
        "王孝純\n",
        "吳昕婷\n",
        "朱惠儀\n",
        "盧文啟\n",
        "謝佳穎\n",
        "鄭憲定\n",
        "馮淑芬\n",
        "聶心怡\n",
        "黃志福\n",
        "馬彥文\n",
        "郭淑真\n",
        "吳欣書\n",
        "鄭佳玲\n",
        "黃健發\n",
        "胡姿婷\n",
        "林義皓\n",
        "胡芳瑜\n",
        "楊易政\n",
        "王德城\n",
        "劉依婷\n",
        "吳俐芷\n",
        "黃詩妃\n",
        "柯韋成\n",
        "鄧亭聿\n",
        "王雅慧\n",
        "陳凱翔\n",
        "藍哲嘉\n",
        "趙偉銘\n",
        "張韋成\n",
        "林向鈺\n",
        "周琬婷\n",
        "尚偉倫\n",
        "賴佳雯\n",
        "陳姵彬\n",
        "林群清\n",
        "趙家豪\n",
        "李政白\n",
        "林俊翔\n",
        "李進慧\n",
        "楊韻如\n",
        "藍姿婷\n",
        "劉嘉泰\n",
        "王柏聖\n",
        "孫宜珊\n",
        "戴萱能\n",
        "高士凱\n",
        "楊又源\n",
        "劉昀天\n",
        "王怡君\n",
        "余月修\n",
        "劉萬季\n",
        "陳信宏\n",
        "陳孝邦\n",
        "朱彥志\n",
        "陳奇瑄\n",
        "鄧淑娟\n",
        "陳逸凡\n",
        "張牧聿\n",
        "唐雪豪\n",
        "林康亮\n",
        "黃旻林\n",
        "蕭淑華\n",
        "劉雯芬\n",
        "陳美惠\n",
        "孫火清\n",
        "溫法堯\n",
        "錢欣潔\n",
        "陳倩潔\n",
        "李雅怡\n",
        "白美珍\n",
        "葉志峰\n",
        "黃佩芬\n",
        "黃麗美\n",
        "黃奎紹\n",
        "邱亭君\n",
        "詹忠光\n",
        "戚亨\n",
        "賴又琦\n",
        "林佳人\n",
        "黃善迪\n",
        "賴苑禾\n",
        "溫重意\n",
        "周怡啟\n",
        "王明昇\n",
        "羅佩樺\n",
        "陳家維\n",
        "張莉雯\n",
        "高俊男\n",
        "林冠蕙\n",
        "王品星\n",
        "吳孟穎\n",
        "黃雅慧\n",
        "馮耀中\n",
        "元延辛\n",
        "王坤安\n",
        "陳慧君\n",
        "張伊映\n",
        "林士凱\n",
        "蘇婷婷\n",
        "陳淑萍\n",
        "林玉佩\n",
        "謝貞妃\n",
        "杜儀鳳\n",
        "陳倩妮\n",
        "胡淑貞\n",
        "楊偉翔\n",
        "姜琬婷\n",
        "張雅芬\n",
        "葉祖雄\n",
        "沈心利\n",
        "彭虹屏\n",
        "余宗儒\n",
        "李立偉\n",
        "臧怡君\n",
        "吳振瑋\n",
        "陳建豪\n",
        "蕭怡伶\n",
        "周芷蓁\n",
        "黃偉剛\n",
        "黃婷婷\n",
        "郎慧萍\n",
        "林昱芳\n",
        "趙宛真\n",
        "白世宏\n",
        "杜明延\n",
        "許淑婷\n",
        "林珍旺\n",
        "蔡孟泉\n",
        "吳晴洋\n",
        "游一鈺\n",
        "朱士弘\n",
        "黃政甫\n",
        "游淑惠\n",
        "張婕妤\n",
        "陳逸華\n",
        "張天亨\n",
        "張嘉韋\n",
        "王志謙\n",
        "黎惠雯\n",
        "高信宏\n",
        "梁柏宇\n",
        "林志喜\n",
        "金宜芳\n",
        "簡國瑋\n",
        "林清英\n",
        "黃彥孝\n",
        "鄭奇翰\n",
        "李慶亮\n",
        "李蓉瑞\n",
        "張明惟\n",
        "游詩亞\n",
        "黃嘉琪\n",
        "張家秀\n",
        "吳柏誠\n",
        "陳得映\n",
        "郭致恬\n",
        "林麗萍\n",
        "陳樂紫\n",
        "翁鈺婷\n",
        "蔡世馨\n",
        "楊建安\n",
        "李湘婷\n",
        "鞠冠宇\n",
        "林志成\n",
        "陳信念\n",
        "林益妏\n",
        "蔡偉成\n",
        "王惠皓\n",
        "王筱婷\n",
        "楊火帆\n",
        "陳怡珊\n",
        "張慧君\n",
        "翁羽威\n",
        "羅幸娥\n",
        "陳俊憲\n",
        "洪奎夫\n",
        "翁均安\n",
        "吳明妮\n",
        "高智超\n",
        "王人仰\n",
        "劉旭士\n",
        "蘇凡菁\n",
        "謝哲維\n",
        "彭偉妃\n",
        "劉耿琦\n",
        "黃柏宇\n",
        "李佳彥\n",
        "唐翊修\n",
        "陳建香\n",
        "葉軍仰\n",
        "吳志宣\n",
        "林珈發\n",
        "黃翔杰\n",
        "郭坤花\n",
        "吳淑惠\n",
        "簡美君\n",
        "許芳如\n",
        "謝水儒\n",
        "陳怡容\n",
        "蔡欣汝\n",
        "王良斌\n",
        "周家銘\n",
        "張凱妮\n",
        "鄭淑珍\n",
        "陳嘉淑\n",
        "魏秋萍\n",
        "簡佳樺\n",
        "劉佳佩\n",
        "李彥伸\n",
        "陳筱涵\n",
        "蔡明平\n",
        "王展人\n",
        "方筠紹\n",
        "陳志偉\n",
        "錢佩豪\n",
        "陳冠霞\n",
        "潘英迪\n",
        "陳冠竹\n",
        "李淑芳\n",
        "謝南慧\n",
        "趙家豪\n",
        "龐皓芳\n",
        "張彥博"
      ]
    },
    {
      "cell_type": "code",
      "execution_count": null,
      "metadata": {},
      "outputs": [],
      "source": []
    },
    {
      "cell_type": "code",
      "execution_count": 9,
      "metadata": {},
      "outputs": [
        {
          "ename": "FileNotFoundError",
          "evalue": "[Errno 2] No such file or directory: 'names.txt'",
          "output_type": "error",
          "traceback": [
            "\u001b[31m---------------------------------------------------------------------------\u001b[39m",
            "\u001b[31mFileNotFoundError\u001b[39m                         Traceback (most recent call last)",
            "\u001b[36mCell\u001b[39m\u001b[36m \u001b[39m\u001b[32mIn[9]\u001b[39m\u001b[32m, line 2\u001b[39m\n\u001b[32m      1\u001b[39m \u001b[38;5;66;03m# 使用 with 語法開啟檔案，確保讀取完後自動關閉檔案\u001b[39;00m\n\u001b[32m----> \u001b[39m\u001b[32m2\u001b[39m \u001b[38;5;28;01mwith\u001b[39;00m \u001b[38;5;28;43mopen\u001b[39;49m\u001b[43m(\u001b[49m\u001b[33;43m\"\u001b[39;49m\u001b[33;43mnames.txt\u001b[39;49m\u001b[33;43m\"\u001b[39;49m\u001b[43m,\u001b[49m\u001b[43m \u001b[49m\u001b[33;43m\"\u001b[39;49m\u001b[33;43mr\u001b[39;49m\u001b[33;43m\"\u001b[39;49m\u001b[43m,\u001b[49m\u001b[43m \u001b[49m\u001b[43mencoding\u001b[49m\u001b[43m=\u001b[49m\u001b[33;43m\"\u001b[39;49m\u001b[33;43mutf-8\u001b[39;49m\u001b[33;43m\"\u001b[39;49m\u001b[43m)\u001b[49m \u001b[38;5;28;01mas\u001b[39;00m f:\n\u001b[32m      3\u001b[39m     content = f.read()  \u001b[38;5;66;03m# 一次讀取全部內容，回傳字串\u001b[39;00m\n\u001b[32m      4\u001b[39m     \u001b[38;5;28mprint\u001b[39m(content)\n",
            "\u001b[36mFile \u001b[39m\u001b[32mc:\\Users\\User\\miniconda3\\Lib\\site-packages\\IPython\\core\\interactiveshell.py:327\u001b[39m, in \u001b[36m_modified_open\u001b[39m\u001b[34m(file, *args, **kwargs)\u001b[39m\n\u001b[32m    320\u001b[39m \u001b[38;5;28;01mif\u001b[39;00m file \u001b[38;5;129;01min\u001b[39;00m {\u001b[32m0\u001b[39m, \u001b[32m1\u001b[39m, \u001b[32m2\u001b[39m}:\n\u001b[32m    321\u001b[39m     \u001b[38;5;28;01mraise\u001b[39;00m \u001b[38;5;167;01mValueError\u001b[39;00m(\n\u001b[32m    322\u001b[39m         \u001b[33mf\u001b[39m\u001b[33m\"\u001b[39m\u001b[33mIPython won\u001b[39m\u001b[33m'\u001b[39m\u001b[33mt let you open fd=\u001b[39m\u001b[38;5;132;01m{\u001b[39;00mfile\u001b[38;5;132;01m}\u001b[39;00m\u001b[33m by default \u001b[39m\u001b[33m\"\u001b[39m\n\u001b[32m    323\u001b[39m         \u001b[33m\"\u001b[39m\u001b[33mas it is likely to crash IPython. If you know what you are doing, \u001b[39m\u001b[33m\"\u001b[39m\n\u001b[32m    324\u001b[39m         \u001b[33m\"\u001b[39m\u001b[33myou can use builtins\u001b[39m\u001b[33m'\u001b[39m\u001b[33m open.\u001b[39m\u001b[33m\"\u001b[39m\n\u001b[32m    325\u001b[39m     )\n\u001b[32m--> \u001b[39m\u001b[32m327\u001b[39m \u001b[38;5;28;01mreturn\u001b[39;00m \u001b[43mio_open\u001b[49m\u001b[43m(\u001b[49m\u001b[43mfile\u001b[49m\u001b[43m,\u001b[49m\u001b[43m \u001b[49m\u001b[43m*\u001b[49m\u001b[43margs\u001b[49m\u001b[43m,\u001b[49m\u001b[43m \u001b[49m\u001b[43m*\u001b[49m\u001b[43m*\u001b[49m\u001b[43mkwargs\u001b[49m\u001b[43m)\u001b[49m\n",
            "\u001b[31mFileNotFoundError\u001b[39m: [Errno 2] No such file or directory: 'names.txt'"
          ]
        }
      ],
      "source": [
        "\n",
        "\n",
        "# 使用 with 語法開啟檔案，確保讀取完後自動關閉檔案\n",
        "with open(\"names.txt\", \"r\", encoding=\"utf-8\") as f:\n",
        "    content = f.read()  # 一次讀取全部內容，回傳字串\n",
        "    print(content)"
      ]
    }
  ],
  "metadata": {
    "colab": {
      "include_colab_link": true,
      "provenance": []
    },
    "kernelspec": {
      "display_name": "base",
      "language": "python",
      "name": "python3"
    },
    "language_info": {
      "codemirror_mode": {
        "name": "ipython",
        "version": 3
      },
      "file_extension": ".py",
      "mimetype": "text/x-python",
      "name": "python",
      "nbconvert_exporter": "python",
      "pygments_lexer": "ipython3",
      "version": "3.13.2"
    }
  },
  "nbformat": 4,
  "nbformat_minor": 0
}
