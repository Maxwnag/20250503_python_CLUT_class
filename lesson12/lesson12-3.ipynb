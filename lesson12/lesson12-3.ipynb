{
 "cells": [
  {
   "cell_type": "code",
   "execution_count": 8,
   "id": "4c21fb4f",
   "metadata": {},
   "outputs": [
    {
     "ename": "ModuleNotFoundError",
     "evalue": "No module named 'scipy'",
     "output_type": "error",
     "traceback": [
      "\u001b[31m---------------------------------------------------------------------------\u001b[39m",
      "\u001b[31mModuleNotFoundError\u001b[39m                       Traceback (most recent call last)",
      "\u001b[36mCell\u001b[39m\u001b[36m \u001b[39m\u001b[32mIn[8]\u001b[39m\u001b[32m, line 5\u001b[39m\n\u001b[32m      3\u001b[39m \u001b[38;5;28;01mfrom\u001b[39;00m\u001b[38;5;250m \u001b[39m\u001b[34;01mnumpy\u001b[39;00m\u001b[38;5;250m \u001b[39m\u001b[38;5;28;01mimport\u001b[39;00m ndarray\n\u001b[32m      4\u001b[39m \u001b[38;5;28;01mimport\u001b[39;00m\u001b[38;5;250m \u001b[39m\u001b[34;01mmatplotlib\u001b[39;00m\u001b[34;01m.\u001b[39;00m\u001b[34;01mpyplot\u001b[39;00m\u001b[38;5;250m \u001b[39m\u001b[38;5;28;01mas\u001b[39;00m\u001b[38;5;250m \u001b[39m\u001b[34;01mplt\u001b[39;00m\n\u001b[32m----> \u001b[39m\u001b[32m5\u001b[39m \u001b[38;5;28;01mfrom\u001b[39;00m\u001b[38;5;250m \u001b[39m\u001b[34;01mscipy\u001b[39;00m\u001b[34;01m.\u001b[39;00m\u001b[34;01mstats\u001b[39;00m\u001b[38;5;250m \u001b[39m\u001b[38;5;28;01mimport\u001b[39;00m normal  \u001b[38;5;66;03m# 用於計算常態分佈的PDF\u001b[39;00m\n\u001b[32m      7\u001b[39m normal_ditribution:ndarray = np.random.normal(loc=\u001b[32m80\u001b[39m,scale=\u001b[32m0.1\u001b[39m,size=(\u001b[32m50\u001b[39m))\n\u001b[32m      8\u001b[39m plt.hist(normal_ditribution, bins=\u001b[32m30\u001b[39m, color=\u001b[33m'\u001b[39m\u001b[33m#B47157\u001b[39m\u001b[33m'\u001b[39m,alpha=\u001b[32m0.5\u001b[39m)\n",
      "\u001b[31mModuleNotFoundError\u001b[39m: No module named 'scipy'"
     ]
    }
   ],
   "source": [
    "#常態分佈(高斯分佈)\n",
    "import numpy as np\n",
    "from numpy import ndarray\n",
    "import matplotlib.pyplot as plt\n",
    "from scipy.stats import normal  # 用於計算常態分佈的PDF\n",
    "\n",
    "normal_ditribution:ndarray = np.random.normal(loc=80,scale=0.1,size=(50))\n",
    "plt.hist(normal_ditribution, bins=30, color='#B47157',alpha=0.5)\n",
    "# 計算x軸範圍\n",
    "xmin, xmax = plt.xlim()\n",
    "x = np.linspace(xmin, xmax, 100)\n",
    "# 計算對應x的常態分佈機率密度值\n",
    "p = norm.pdf(x, loc=np.mean(normal_ditribution), scale=np.std(normal_ditribution))\n",
    "plt.plot(x, p, color='red' ,linewidth=2)\n",
    "print(x)\n",
    "plt.show()"
   ]
  },
  {
   "cell_type": "code",
   "execution_count": null,
   "id": "1f53953f",
   "metadata": {},
   "outputs": [],
   "source": [
    "np.mean(normal_ditribution)\n",
    "np.std(normal_ditribution)"
   ]
  }
 ],
 "metadata": {
  "kernelspec": {
   "display_name": "arivn",
   "language": "python",
   "name": "python3"
  },
  "language_info": {
   "codemirror_mode": {
    "name": "ipython",
    "version": 3
   },
   "file_extension": ".py",
   "mimetype": "text/x-python",
   "name": "python",
   "nbconvert_exporter": "python",
   "pygments_lexer": "ipython3",
   "version": "3.13.5"
  }
 },
 "nbformat": 4,
 "nbformat_minor": 5
}
