{
 "cells": [
  {
   "cell_type": "markdown",
   "id": "59991f22",
   "metadata": {},
   "source": [
    "https://www.perplexity.ai/search/cc086321-725e-4231-a50a-8d53131ab4e2"
   ]
  },
  {
   "cell_type": "code",
   "execution_count": null,
   "id": "ba4566f4",
   "metadata": {},
   "outputs": [],
   "source": [
    "import pandas as pd\n",
    "\n",
    "df = pd.read_csv('各鄉鎮市區人口密度.csv')\n",
    "df"
   ]
  },
  {
   "cell_type": "code",
   "execution_count": null,
   "id": "b7be92f7",
   "metadata": {},
   "outputs": [],
   "source": [
    "df.info()"
   ]
  },
  {
   "cell_type": "code",
   "execution_count": null,
   "id": "5fd2ed8d",
   "metadata": {},
   "outputs": [],
   "source": [
    "df1 = df.rename(columns={'statistic_yyy':'統計年',\n",
    "                  'site_id':'區域別',\n",
    "                  'people_total':'年底人口數',\n",
    "                  'area':'土地面積',\n",
    "                  'population_density':'人口密度'\n",
    "                    })\n",
    "df1"
   ]
  },
  {
   "cell_type": "code",
   "execution_count": null,
   "id": "5c149344",
   "metadata": {},
   "outputs": [],
   "source": [
    "df2 = df1.drop(index=0)\n",
    "df2.dropna(axis=0,how='any')"
   ]
  },
  {
   "cell_type": "code",
   "execution_count": null,
   "id": "8d5025d0",
   "metadata": {},
   "outputs": [],
   "source": [
    "df2 = df1.drop(index=0)\n",
    "df3 = df2.dropna(axis=0,how='any')"
   ]
  },
  {
   "cell_type": "code",
   "execution_count": null,
   "id": "4983b81e",
   "metadata": {},
   "outputs": [],
   "source": [
    "df4 = df3.drop('統計年',axis=1)\n",
    "df4"
   ]
  },
  {
   "cell_type": "code",
   "execution_count": null,
   "id": "df5ed055",
   "metadata": {},
   "outputs": [],
   "source": [
    "df4.info()"
   ]
  },
  {
   "cell_type": "code",
   "execution_count": null,
   "id": "9fbb1cff",
   "metadata": {},
   "outputs": [],
   "source": [
    "for value in df4['年底人口數']:\n",
    "    print(value)"
   ]
  },
  {
   "cell_type": "code",
   "execution_count": null,
   "id": "26a697ee",
   "metadata": {},
   "outputs": [],
   "source": [
    "def strToInt(x:str)->int:\n",
    "    try:\n",
    "        return int(x)\n",
    "    except:\n",
    "        return 0\n",
    "\n",
    "df4['年底人口數'] = df4['年底人口數'].apply(strToInt)\n",
    "df4['人口密度'] = df4['人口密度'].apply(strToInt)\n",
    "df4['土地面積']= df4['土地面積'].astype('float')"
   ]
  },
  {
   "cell_type": "code",
   "execution_count": null,
   "id": "3f21d0d3",
   "metadata": {},
   "outputs": [],
   "source": [
    "df4.info()"
   ]
  },
  {
   "cell_type": "code",
   "execution_count": null,
   "id": "ac045e67",
   "metadata": {},
   "outputs": [],
   "source": [
    "for value in df4['年底人口數']:\n",
    "    print(value)"
   ]
  },
  {
   "cell_type": "code",
   "execution_count": null,
   "id": "35a78705",
   "metadata": {},
   "outputs": [],
   "source": [
    "def strToInt(x:str)->int:\n",
    "    try:\n",
    "        return int(x)\n",
    "    except:\n",
    "        return 0\n",
    "\n",
    "df4['年底人口數'] = df4['年底人口數'].apply(strToInt)\n",
    "df4['人口密度'] = df4['人口密度'].apply(strToInt)\n",
    "df4['土地面積']= df4['土地面積'].astype('float')"
   ]
  },
  {
   "cell_type": "code",
   "execution_count": null,
   "id": "fef11d25",
   "metadata": {},
   "outputs": [],
   "source": [
    "df4.info()"
   ]
  },
  {
   "cell_type": "code",
   "execution_count": null,
   "id": "90eddf8d",
   "metadata": {},
   "outputs": [],
   "source": [
    "df4"
   ]
  },
  {
   "cell_type": "code",
   "execution_count": null,
   "id": "2823b877",
   "metadata": {},
   "outputs": [],
   "source": [
    "def split_area(v:str)->str:\n",
    "    if len(v) >= 6:\n",
    "        return v[:3]\n",
    "    else:\n",
    "        return v\n",
    "    \n",
    "def split_area1(v:str)->str:\n",
    "    if len(v) >=6:\n",
    "        return v[-3:]\n",
    "    else:\n",
    "        return v\n",
    "    \n",
    "\n",
    "df4['縣市'] = df4['區域別'].apply(split_area)\n",
    "df4['區域'] = df4['區域別'].apply(split_area1)"
   ]
  },
  {
   "cell_type": "code",
   "execution_count": null,
   "id": "b7f07825",
   "metadata": {},
   "outputs": [],
   "source": [
    "df5 = df4.reindex(columns=['縣市','區域','年底人口數','土地面積','人口密度'])"
   ]
  },
  {
   "cell_type": "code",
   "execution_count": null,
   "id": "000f826a",
   "metadata": {},
   "outputs": [],
   "source": [
    "#搜尋\n",
    "df5.query('年底人口數>=500000')"
   ]
  },
  {
   "cell_type": "code",
   "execution_count": null,
   "id": "4a635454",
   "metadata": {},
   "outputs": [],
   "source": [
    "m = df5['人口密度'].max()\n",
    "df5.query('人口密度== @m')"
   ]
  }
 ],
 "metadata": {
  "kernelspec": {
   "display_name": "arvin",
   "language": "python",
   "name": "python3"
  },
  "language_info": {
   "name": "python",
   "version": "undefined.undefined.undefined"
  }
 },
 "nbformat": 4,
 "nbformat_minor": 5
}
