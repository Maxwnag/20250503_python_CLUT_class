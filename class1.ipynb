{
  "nbformat": 4,
  "nbformat_minor": 0,
  "metadata": {
    "colab": {
      "provenance": [],
      "include_colab_link": true
    },
    "kernelspec": {
      "name": "python3",
      "display_name": "Python 3"
    },
    "language_info": {
      "name": "python"
    }
  },
  "cells": [
    {
      "cell_type": "markdown",
      "metadata": {
        "id": "view-in-github",
        "colab_type": "text"
      },
      "source": [
        "<a href=\"https://colab.research.google.com/github/Maxwnag/20250503_python_CLUT_class/blob/main/class1.ipynb\" target=\"_parent\"><img src=\"https://colab.research.google.com/assets/colab-badge.svg\" alt=\"Open In Colab\"/></a>"
      ]
    },
    {
      "cell_type": "code",
      "source": [
        "print(\"Holle! python!\")"
      ],
      "metadata": {
        "colab": {
          "base_uri": "https://localhost:8080/"
        },
        "id": "Ku69pNoPM_zg",
        "outputId": "5de448f9-1060-49cb-a419-462d7ec0d0fe"
      },
      "execution_count": null,
      "outputs": [
        {
          "output_type": "stream",
          "name": "stdout",
          "text": [
            "Holle! python!\n"
          ]
        }
      ]
    },
    {
      "cell_type": "code",
      "source": [
        "print (3+3)  #加 +\n",
        "print (5-4)  #減 -\n",
        "print (2*8)  #乘 *\n",
        "print (7/2)  #除 /\n",
        "print (7%2)  #餘數 %\n",
        "print (3**3)  #次方 **\n",
        "print (7//2)  #整除 //\n",
        "\n",
        "#運算優先順序 1.() 2.** 3.正負 4. * / % // 5. + - 6. ="
      ],
      "metadata": {
        "id": "hrQFcyQ4RlLj",
        "outputId": "09d0641b-7ec5-49c1-9454-d0f179626214",
        "colab": {
          "base_uri": "https://localhost:8080/"
        }
      },
      "execution_count": 2,
      "outputs": [
        {
          "output_type": "stream",
          "name": "stdout",
          "text": [
            "6\n",
            "1\n",
            "16\n",
            "3.5\n",
            "1\n",
            "27\n",
            "3\n"
          ]
        }
      ]
    },
    {
      "cell_type": "code",
      "source": [
        "2*(1+2)**2-2**2*2\n",
        "\n",
        "5*3\n"
      ],
      "metadata": {
        "id": "900VOwWnsbg5",
        "outputId": "6ad9ea09-2b30-426e-f94e-4bea74f0a273",
        "colab": {
          "base_uri": "https://localhost:8080/"
        }
      },
      "execution_count": 4,
      "outputs": [
        {
          "output_type": "execute_result",
          "data": {
            "text/plain": [
              "15"
            ]
          },
          "metadata": {},
          "execution_count": 4
        }
      ]
    },
    {
      "cell_type": "markdown",
      "source": [
        "markdown 語法"
      ],
      "metadata": {
        "id": "qgjv8TGBsbQx"
      }
    },
    {
      "cell_type": "markdown",
      "source": [
        "**1**\n",
        "\n",
        "~~2~~\n",
        "\n",
        "- 3\n",
        "\n",
        "_4_\n",
        "\n",
        "# 5\n",
        "\n",
        "## 6\n",
        "\n",
        "### 7\n",
        "\n",
        "#### 8\n",
        "\n",
        "##### 9\n",
        "\n",
        "###### 10"
      ],
      "metadata": {
        "id": "xDq55vGDtxpx"
      }
    }
  ]
}