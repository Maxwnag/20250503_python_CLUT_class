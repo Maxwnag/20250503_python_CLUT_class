{
  "nbformat": 4,
  "nbformat_minor": 0,
  "metadata": {
    "colab": {
      "provenance": [],
      "include_colab_link": true
    },
    "kernelspec": {
      "name": "python3",
      "display_name": "Python 3"
    },
    "language_info": {
      "name": "python"
    }
  },
  "cells": [
    {
      "cell_type": "markdown",
      "metadata": {
        "id": "view-in-github",
        "colab_type": "text"
      },
      "source": [
        "<a href=\"https://colab.research.google.com/github/Maxwnag/20250503_python_CLUT_class/blob/main/class1.ipynb\" target=\"_parent\"><img src=\"https://colab.research.google.com/assets/colab-badge.svg\" alt=\"Open In Colab\"/></a>"
      ]
    },
    {
      "cell_type": "code",
      "source": [
        "print(\"Holle! python!\")"
      ],
      "metadata": {
        "colab": {
          "base_uri": "https://localhost:8080/"
        },
        "id": "Ku69pNoPM_zg",
        "outputId": "5de448f9-1060-49cb-a419-462d7ec0d0fe"
      },
      "execution_count": null,
      "outputs": [
        {
          "output_type": "stream",
          "name": "stdout",
          "text": [
            "Holle! python!\n"
          ]
        }
      ]
    },
    {
      "cell_type": "code",
      "source": [
        "print (3+3)  #加 +\n",
        "print (5-4)  #減 -\n",
        "print (2*8)  #乘 *\n",
        "print (7/2)  #除 /\n",
        "print (7%2)  #餘數 %\n",
        "print (3**3)  #次方 **\n",
        "print (7//2)  #整除 //\n",
        "\n",
        "#運算優先順序 1.() 2.** 3.正負 4. * / % // 5. + - 6. ="
      ],
      "metadata": {
        "id": "hrQFcyQ4RlLj",
        "outputId": "09d0641b-7ec5-49c1-9454-d0f179626214",
        "colab": {
          "base_uri": "https://localhost:8080/"
        }
      },
      "execution_count": null,
      "outputs": [
        {
          "output_type": "stream",
          "name": "stdout",
          "text": [
            "6\n",
            "1\n",
            "16\n",
            "3.5\n",
            "1\n",
            "27\n",
            "3\n"
          ]
        }
      ]
    },
    {
      "cell_type": "code",
      "source": [
        "n=2*(1+2)**2-2**2*2\n",
        "n*=10\n",
        "print(n)\n",
        "\n"
      ],
      "metadata": {
        "id": "900VOwWnsbg5",
        "outputId": "e7b34388-a1fb-4772-8262-cfdf20c93fbc",
        "colab": {
          "base_uri": "https://localhost:8080/"
        }
      },
      "execution_count": 8,
      "outputs": [
        {
          "output_type": "stream",
          "name": "stdout",
          "text": [
            "100\n"
          ]
        }
      ]
    },
    {
      "cell_type": "markdown",
      "source": [
        "#a=input(\" \") 字串\n",
        "\n",
        "#b=100  數值\n",
        "\n",
        "#c=10.5 浮點數"
      ],
      "metadata": {
        "id": "z49q6UKvDh7C"
      }
    },
    {
      "cell_type": "code",
      "source": [
        "name= input(\"你的姓名:\")\n",
        "height= input(\"身高(cm):\")\n",
        "weight= input(\"體重(kg):\")\n",
        "bmi= round(int(weight)/(int(height)/100)**2,2)\n",
        "print(\"姓名:\",name,\"身高:\",height,\"體重:\",weight,\"BMI:\",bmi)\n",
        "if bmi<18.5:\n",
        "    print(\"體重過輕\")\n",
        "elif bmi<24:\n",
        "    print(\"正常範圍\")\n",
        "elif bmi<27:\n",
        "    print(\"體重稍重\")\n",
        "elif bmi<30:\n",
        "    print(\"輕度肥胖\")\n",
        "elif bmi<35:\n",
        "    print(\"中度肥胖\")\n",
        "else:\n",
        "    print(\"重度肥胖\")"
      ],
      "metadata": {
        "colab": {
          "base_uri": "https://localhost:8080/"
        },
        "id": "xR32X3uvA2Qs",
        "outputId": "43e0690a-1847-4a0c-a38e-31a33fef82dd"
      },
      "execution_count": 30,
      "outputs": [
        {
          "output_type": "stream",
          "name": "stdout",
          "text": [
            "你的姓名:123\n",
            "身高(cm):170\n",
            "體重(kg):76\n",
            "姓名: 123 身高: 170 體重: 76 BMI: 26.3\n",
            "體重稍重\n"
          ]
        }
      ]
    },
    {
      "cell_type": "code",
      "source": [
        "a=int(input(\"數字\"))  #整數與浮點數可做運算  int\n",
        "print (a+10)\n",
        "\n",
        "b=float(input(\"數字\")) #浮點數與整數可做運算 float\n",
        "print (b+10)\n",
        "\n",
        "c=str(input(\"數字\"))  #字串與字串可相加相乘  str\n",
        "print (c+\"10\")"
      ],
      "metadata": {
        "colab": {
          "base_uri": "https://localhost:8080/"
        },
        "id": "thSVEZw-HEtI",
        "outputId": "f705db10-4f4d-452e-c882-c01566c34052"
      },
      "execution_count": 22,
      "outputs": [
        {
          "output_type": "stream",
          "name": "stdout",
          "text": [
            "數字10\n",
            "20\n",
            "數字20\n",
            "30.0\n",
            "數字10\n",
            "1010\n"
          ]
        }
      ]
    },
    {
      "cell_type": "markdown",
      "source": [
        "markdown 語法"
      ],
      "metadata": {
        "id": "LaLIdd4wEv_Z"
      }
    },
    {
      "cell_type": "markdown",
      "source": [
        "**1**\n",
        "\n",
        "~~2~~\n",
        "\n",
        "- 3\n",
        "\n",
        "_4_\n",
        "\n",
        "# 5\n",
        "\n",
        "## 6\n",
        "\n",
        "### 7\n",
        "\n",
        "#### 8\n",
        "\n",
        "##### 9\n",
        "\n",
        "###### 10"
      ],
      "metadata": {
        "id": "xDq55vGDtxpx"
      }
    }
  ]
}