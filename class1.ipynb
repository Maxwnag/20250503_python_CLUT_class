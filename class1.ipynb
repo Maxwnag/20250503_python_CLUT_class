{
  "nbformat": 4,
  "nbformat_minor": 0,
  "metadata": {
    "colab": {
      "provenance": [],
      "include_colab_link": true
    },
    "kernelspec": {
      "name": "python3",
      "display_name": "Python 3"
    },
    "language_info": {
      "name": "python"
    }
  },
  "cells": [
    {
      "cell_type": "markdown",
      "metadata": {
        "id": "view-in-github",
        "colab_type": "text"
      },
      "source": [
        "<a href=\"https://colab.research.google.com/github/Maxwnag/20250503_python_CLUT_class/blob/main/class1.ipynb\" target=\"_parent\"><img src=\"https://colab.research.google.com/assets/colab-badge.svg\" alt=\"Open In Colab\"/></a>"
      ]
    },
    {
      "cell_type": "markdown",
      "source": [
        "- 數學運算 + - * /\n",
        "- 流程運算\n",
        "- 基本資料結構 Tuple、List、Dictionary\n",
        "- 結構化程式碼"
      ],
      "metadata": {
        "id": "QOgtU52g1xZY"
      }
    },
    {
      "cell_type": "code",
      "source": [
        "print(\"Holle! python!\")"
      ],
      "metadata": {
        "colab": {
          "base_uri": "https://localhost:8080/"
        },
        "id": "Ku69pNoPM_zg",
        "outputId": "a659008d-8169-4170-f043-2f8921a081dc"
      },
      "execution_count": null,
      "outputs": [
        {
          "output_type": "stream",
          "name": "stdout",
          "text": [
            "Holle! python!\n"
          ]
        }
      ]
    },
    {
      "cell_type": "code",
      "source": [
        "print (3+3)  #加 +\n",
        "print (5-4)  #減 -\n",
        "print (2*8)  #乘 *\n",
        "print (7/2)  #除 /\n",
        "print (7%2)  #餘數 %\n",
        "print (3**3)  #次方 **\n",
        "print (7//2)  #整除 //\n",
        "\n",
        "#運算優先順序 1.() 2.** 3.正負 4. * / % // 5. + - 6. ="
      ],
      "metadata": {
        "id": "hrQFcyQ4RlLj",
        "outputId": "a79ac31d-037a-4c08-e4f3-7a9230deeb27",
        "colab": {
          "base_uri": "https://localhost:8080/"
        }
      },
      "execution_count": null,
      "outputs": [
        {
          "output_type": "stream",
          "name": "stdout",
          "text": [
            "6\n",
            "1\n",
            "16\n",
            "3.5\n",
            "1\n",
            "27\n",
            "3\n"
          ]
        }
      ]
    },
    {
      "cell_type": "code",
      "source": [
        "n=2*(1+2)**2-2**2*2\n",
        "n*=10\n",
        "print(n)\n",
        "\n"
      ],
      "metadata": {
        "id": "900VOwWnsbg5",
        "outputId": "2be69cee-2b61-4566-c9e5-fa31908b49fd",
        "colab": {
          "base_uri": "https://localhost:8080/"
        }
      },
      "execution_count": null,
      "outputs": [
        {
          "output_type": "stream",
          "name": "stdout",
          "text": [
            "100\n"
          ]
        }
      ]
    },
    {
      "cell_type": "markdown",
      "source": [
        "#int int(input( )) 輸入整數數值\n",
        "\n",
        "#float floatint(input( )) 輸入數值會有小數點\n",
        "\n",
        "#str str(input( )) 輸入字串"
      ],
      "metadata": {
        "id": "G7IuqBOoMWTp"
      }
    },
    {
      "cell_type": "code",
      "source": [
        "a=int(input(\"數字\"))  #整數與浮點數可做運算  int 轉換成整數\n",
        "print (a+10)\n",
        "\n",
        "b=float(input(\"數字\")) #浮點數與整數可做運算  float 轉換成浮點數\n",
        "print (b+10)\n",
        "\n",
        "c=str(input(\"數字\"))  #字串與字串可相加相乘  str\n",
        "print (c+\"10\")"
      ],
      "metadata": {
        "colab": {
          "base_uri": "https://localhost:8080/"
        },
        "id": "thSVEZw-HEtI",
        "outputId": "5d6272a8-9f94-4e8c-cd27-01961824c2a5"
      },
      "execution_count": null,
      "outputs": [
        {
          "output_type": "stream",
          "name": "stdout",
          "text": [
            "數字30\n",
            "40\n",
            "數字10\n",
            "20.0\n",
            "數字11\n",
            "1110\n"
          ]
        }
      ]
    },
    {
      "cell_type": "code",
      "source": [
        "import math\n",
        "print(\"求三角形斜邊長\")\n",
        "a=float(input(\"請輸入三角形底邊長:\"))\n",
        "b=float(input(\"請輸入三角形長邊長:\"))\n",
        "c=math.sqrt(a**2+b**2)\n",
        "print(\"三角形斜邊長:\",c)"
      ],
      "metadata": {
        "id": "GYeFMXchNemp"
      },
      "execution_count": null,
      "outputs": []
    },
    {
      "cell_type": "markdown",
      "source": [
        "markdown 語法"
      ],
      "metadata": {
        "id": "LaLIdd4wEv_Z"
      }
    },
    {
      "cell_type": "markdown",
      "source": [
        "**1**\n",
        "\n",
        "~~2~~\n",
        "\n",
        "- 3\n",
        "\n",
        "_4_\n",
        "\n",
        "# 5\n",
        "\n",
        "## 6\n",
        "\n",
        "### 7\n",
        "\n",
        "#### 8\n",
        "\n",
        "##### 9\n",
        "\n",
        "###### 10"
      ],
      "metadata": {
        "id": "xDq55vGDtxpx"
      }
    },
    {
      "cell_type": "markdown",
      "source": [
        "#20250510_class2 學習程式碼\n",
        "* 數學運算\n",
        "* 流程控制\n",
        "\n",
        "# 比較運算式\n",
        "* \" > \"   大於\n",
        "* \" >= \"   大於等於\n",
        "* \" < \"    小於\n",
        "* \" <= \"   小於等於\n",
        "* \" == \"   等於等於\n",
        "* \" != \"   不等於\n",
        "* \" is \"   判斷是否相同\n",
        "* \" is not \" 判斷是否不相同\n",
        "\n",
        "# 條件式\n",
        "* 單項式\n",
        "* 雙項式\n",
        "\n",
        "#### 單項式\n",
        "\n",
        "if 條件\n",
        "\n",
        "  執行程式區塊1\n",
        "\n",
        "  執行程式區塊2\n",
        "\n",
        "#### 雙項式\n",
        "\n",
        "if 條件\n",
        "\n",
        "執行程式區塊1\n",
        "\n",
        "else\n",
        "\n",
        "執行程式區塊2\n",
        "\n",
        "\n"
      ],
      "metadata": {
        "id": "OiQC-Zoqx4sA"
      }
    },
    {
      "cell_type": "code",
      "source": [
        "5 > 3"
      ],
      "metadata": {
        "id": "EtFdoIiV3Wo_"
      },
      "execution_count": null,
      "outputs": []
    },
    {
      "cell_type": "code",
      "source": [
        "5 < 3"
      ],
      "metadata": {
        "id": "pPFRnahF37Iu"
      },
      "execution_count": null,
      "outputs": []
    },
    {
      "cell_type": "markdown",
      "source": [],
      "metadata": {
        "id": "SPUENqRJ5_cN"
      }
    },
    {
      "cell_type": "code",
      "source": [
        "scores =(int(input()))\n",
        "if scores < 60:\n",
        "  print('keep going')\n",
        "elif scores > 60:\n",
        "  print('not bad')\n",
        "elif scores > 80:\n",
        "  print('good')\n",
        "elif scores > 90:\n",
        "  print('very good')\n",
        "else:\n",
        "  print('excellent')"
      ],
      "metadata": {
        "id": "EkxD_QR88XGl"
      },
      "execution_count": null,
      "outputs": []
    },
    {
      "cell_type": "code",
      "source": [
        "name= input(\"你的姓名:\")\n",
        "height= input(\"身高(cm):\")\n",
        "weight= input(\"體重(kg):\")\n",
        "bmi= round(int(weight)/(int(height)/100)**2,2)\n",
        "print(\"姓名:\",name,\"身高:\",height,\"體重:\",weight,\"BMI:\",bmi)\n",
        "if bmi<18.5:\n",
        "    print(\"體重過輕\")\n",
        "elif bmi<24:\n",
        "    print(\"正常範圍\")\n",
        "elif bmi<27:\n",
        "    print(\"體重稍重\")\n",
        "elif bmi<30:\n",
        "    print(\"輕度肥胖\")\n",
        "elif bmi<35:\n",
        "    print(\"中度肥胖\")\n",
        "else:\n",
        "    print(\"重度肥胖\")"
      ],
      "metadata": {
        "id": "cZXfQQ69B5tk"
      },
      "execution_count": null,
      "outputs": []
    },
    {
      "cell_type": "markdown",
      "source": [
        "# 邏輯運算式\n",
        "- and  同時滿足條件\n",
        "- or   其一滿足條件\n",
        "- not  不滿足條件"
      ],
      "metadata": {
        "id": "6Km761L9KIft"
      }
    },
    {
      "cell_type": "code",
      "source": [
        "scores = int(input())\n",
        "if (scores <60 ):\n",
        "  print('D')\n",
        "elif scores >= 60 and scores <= 69:\n",
        "  print('C')\n",
        "elif scores >= 70 and scores <= 79:\n",
        "  print('B')\n",
        "elif scores >= 80 and scores <= 89:\n",
        "  print('A')\n",
        "else:\n",
        "  print('A+')"
      ],
      "metadata": {
        "id": "NAax-e0vMdN5"
      },
      "execution_count": null,
      "outputs": []
    },
    {
      "cell_type": "markdown",
      "source": [
        "#資料結構\n",
        "\n",
        "### Tuple\n",
        "\n",
        "- 是不可變的，這表示一旦建立 tuple 後，就無法更改其元素。\n",
        "- 使用圓括號 ( ) 來表示，例如 (1, 2, 3)。\n",
        "- 通常用於儲存異質資料，例如不同資料類型的元素。\n",
        "- 較不佔記憶體(暫存)\n",
        "\n",
        "### List\n",
        "\n",
        "- 是可變的，這表示您可以新增、刪除或更改其元素。\n",
        "- 使用方括號 [ ] 來表示，例如 [1, 2, 3]。\n",
        "- 通常用於儲存同質資料，例如相同資料類型的元素。\n",
        "- 較佔記憶體(常存)\n",
        "\n",
        "### dictionary\n",
        "- dictionary 以鍵值對（key-value pair）的方式儲存資料。\n",
        "- 鍵值對都包含一個鍵（key）和一個值（value）。\n",
        "- 鍵(key)用於識別值，值(value)則是用於儲存資料。\n",
        "- 使用大括號 { } 來建立 dictionary，\n",
        "- 並使用冒號 : 來分隔鍵(key)和值(value)。\n",
        "- dictionary = {'key':'value'}"
      ],
      "metadata": {
        "id": "2sEM6ZfWt6E-"
      }
    },
    {
      "cell_type": "code",
      "source": [
        "# Tuple\n",
        "my_tuple = (1, 'hello', 3.14)\n",
        "print(my_tuple)  # 輸出: (1, 'hello', 3.14)\n",
        "\n",
        "# List\n",
        "my_list = [1, 'hello', 3.14]\n",
        "print(my_list)  # 輸出: [1, 'hello', 3.14]\n",
        "\n",
        "# 修改 List\n",
        "my_list[0] = 2\n",
        "print(my_list)  # 輸出: [2, 'hello', 3.14]\n",
        "\n",
        "# 修改 Tuple 會導致錯誤\n",
        "# my_tuple[0] = 2  # TypeError: 'tuple' object does not support item assignment\n",
        "\n",
        "#distionry\n",
        "my_dict = {'key': 'value', 'age': 30, 'city': 'New York'}\n",
        "print(my_dict)  # 輸出: {'name': 'John', 'age': 30, 'city': 'New York'}\n",
        "\n",
        "# 輸入key,輸出value\n",
        "print(my_dict['key'])  # 輸出: value\n",
        "print(my_dict['age'])  # 輸出: 30\n",
        "print(my_dict['city'])  # 輸出: New York\n"
      ],
      "metadata": {
        "id": "O71JvP8LujJ3"
      },
      "execution_count": null,
      "outputs": []
    },
    {
      "cell_type": "code",
      "source": [
        "#explme\n",
        "for stundent in a:\n",
        "  a=[stud1,stud2,stud3,stud4]\n",
        "  stud1={'name': 'Arvin','age':40,'number':'1'}\n",
        "  stud2={'name': 'Ben','age':41,'number':'2'}\n",
        "  stud3={'name': 'Candy','age':42,'number':'3'}\n",
        "  stud4={'name': 'Daniel','age':43,'number':'4'}\n",
        "  a=[stud1,stud2,stud3,stud4]\n",
        "  input(print (stundent['age']))"
      ],
      "metadata": {
        "colab": {
          "base_uri": "https://localhost:8080/"
        },
        "id": "HOxH5gJC1VlE",
        "outputId": "827b83d3-06ba-44c1-e710-93f0339194ee"
      },
      "execution_count": null,
      "outputs": [
        {
          "name": "stdout",
          "output_type": "stream",
          "text": [
            "40\n",
            "Noneare\n",
            "41\n",
            "Nonea\n",
            "42\n",
            "Nonea\n",
            "43\n",
            "Nonea\n"
          ]
        }
      ]
    },
    {
      "cell_type": "markdown",
      "source": [],
      "metadata": {
        "id": "DKPfVNKE1VWD"
      }
    },
    {
      "cell_type": "markdown",
      "source": [
        "# 迴圈 & 停止或重複\n",
        "## for in\n",
        "- 在執行開始時，會將迭代物件（列表、元組、字串、字典等）依序指派給迴圈變數。\n",
        "- 迴圈會執行指定的次數，直到迭代完所有元素為止。\n",
        "\n",
        "\n",
        "## while\n",
        "- 每次執行時，只要檢查條件為真，就會重複執行程式碼區塊,條件為假，就結束迴圈。\n",
        "- 通常用於未知迭代次數的情況。\n",
        "\n",
        "## break\n",
        "- 條件達成後停止執行\n",
        "\n",
        "## continue\n",
        "- 條件達成後重複執行\n"
      ],
      "metadata": {
        "id": "K3kCkix9_7Rb"
      }
    },
    {
      "cell_type": "code",
      "source": [
        "x = 1\n",
        "for n in range(1,101):\n",
        "  x += n\n",
        "print(x)"
      ],
      "metadata": {
        "colab": {
          "base_uri": "https://localhost:8080/"
        },
        "id": "5GGouC5gABOc",
        "outputId": "09384276-55a6-41ec-be63-830de8c19be9"
      },
      "execution_count": null,
      "outputs": [
        {
          "output_type": "stream",
          "name": "stdout",
          "text": [
            "5051\n"
          ]
        }
      ]
    },
    {
      "cell_type": "code",
      "source": [
        "while True:\n",
        "    number = int(input(\"請輸入一個數字（輸入 0 結束）：\"))\n",
        "    if number == 0:\n",
        "        break  #條件達成中止執行\n",
        "    if number < 0:\n",
        "        continue #條件達成重新執行\n",
        "    print(number)"
      ],
      "metadata": {
        "colab": {
          "base_uri": "https://localhost:8080/"
        },
        "id": "aQJ0KtpRBvDs",
        "outputId": "55a015eb-5d59-4733-ea38-aaa3a4498bb2"
      },
      "execution_count": null,
      "outputs": [
        {
          "name": "stdout",
          "output_type": "stream",
          "text": [
            "請輸入一個數字（輸入 0 結束）：3\n",
            "3\n",
            "請輸入一個數字（輸入 0 結束）：2\n",
            "2\n",
            "請輸入一個數字（輸入 0 結束）：1\n",
            "1\n",
            "請輸入一個數字（輸入 0 結束）：12\n",
            "12\n",
            "請輸入一個數字（輸入 0 結束）：74\n",
            "74\n",
            "請輸入一個數字（輸入 0 結束）：78\n",
            "78\n",
            "請輸入一個數字（輸入 0 結束）：0\n"
          ]
        }
      ]
    },
    {
      "cell_type": "code",
      "source": [
        "from re import I\n",
        "total = 0\n",
        "while True:\n",
        "  i =int(input(\"請輸入數字(輸入0結束):\"))\n",
        "  if i==0: #條件\n",
        "    break #條件達成後終止迴圈\n",
        "  total += i\n",
        "print(\"總和:\",total)"
      ],
      "metadata": {
        "colab": {
          "base_uri": "https://localhost:8080/"
        },
        "id": "-hdq7ddlAwsk",
        "outputId": "be0c7ee1-fc64-49cc-82a1-7317023bdfc0"
      },
      "execution_count": null,
      "outputs": [
        {
          "output_type": "stream",
          "name": "stdout",
          "text": [
            "請輸入數字(輸入0結束):30\n",
            "請輸入數字(輸入0結束):1\n",
            "請輸入數字(輸入0結束):2\n",
            "請輸入數字(輸入0結束):5\n",
            "請輸入數字(輸入0結束):6\n",
            "請輸入數字(輸入0結束):7\n",
            "請輸入數字(輸入0結束):8\n",
            "請輸入數字(輸入0結束):1111\n",
            "請輸入數字(輸入0結束):0\n",
            "總和: 1170\n"
          ]
        }
      ]
    },
    {
      "cell_type": "markdown",
      "source": [
        "#亂數\n",
        "\n",
        "## random.randint(a,b)\n",
        "- 亂數 a <= >= b exlp 取1~100間的亂數，則a=1,b=100\n"
      ],
      "metadata": {
        "id": "IVExTi15I0iP"
      }
    },
    {
      "cell_type": "code",
      "source": [
        "import random\n",
        "min = 1\n",
        "max = 10\n",
        "random=random.randint(min,max)\n",
        "print('=====遊戲開始=====\\n')\n",
        "while True:\n",
        "  input_number = int(input(f\"請輸入數字({min}~{max}):\"))\n",
        "  if( input_number == random):\n",
        "   print(f\"YOU WIN_The number is : { input_number }\")\n",
        "   break\n",
        "  elif( input_number < random):\n",
        "   print(f\"{input_number}~{random}\")\n",
        "  else:\n",
        "   print(\"猜錯了，再大一點\")\n",
        "print(\"See You Next Time\")\n"
      ],
      "metadata": {
        "colab": {
          "base_uri": "https://localhost:8080/"
        },
        "id": "42iKbP3SJjIy",
        "outputId": "9a46a78f-191a-4ab7-dae5-d0b2a44f2bba"
      },
      "execution_count": null,
      "outputs": [
        {
          "output_type": "stream",
          "name": "stdout",
          "text": [
            "=====遊戲開始=====\n",
            "\n",
            "請輸入數字(1~10):1\n",
            "1~7\n",
            "請輸入數字(1~10):2\n",
            "2~7\n",
            "請輸入數字(1~10):3\n",
            "3~7\n",
            "請輸入數字(1~10):4\n",
            "4~7\n",
            "請輸入數字(1~10):5\n",
            "5~7\n",
            "請輸入數字(1~10):6\n",
            "6~7\n",
            "請輸入數字(1~10):7\n",
            "YOU WIN_The number is : 7\n",
            "See You Next Time\n"
          ]
        }
      ]
    },
    {
      "cell_type": "code",
      "source": [
        "import random\n",
        "min = 1\n",
        "max = 99\n",
        "count = 0\n",
        "random_number = random.randint(min,max)\n",
        "#print(random_number)\n",
        "print(\"=====猜數字遊戲開始=========\\n\\n\")\n",
        "while True:\n",
        "  input_number = int(input(f\"請輸入數字({min}~{max}):\"))\n",
        "  count += 1\n",
        "  if(input_number == random_number):\n",
        "    print(f\"賓果!猜對了, 答案是:{input_number}\")\n",
        "    print(f\"您猜了:{count}次\")\n",
        "    break\n",
        "  elif(input_number>random_number):\n",
        "    print(f\"再小一點\")\n",
        "    max = input_number - 1\n",
        "  elif(input_number<random_number):\n",
        "    print(f\"再大一點\")\n",
        "    min = input_number + 1\n",
        "\n",
        "  print(f\"您已經猜了:{count}次\\n\")\n",
        "\n",
        "\n",
        "print(\"Game Over\")"
      ],
      "metadata": {
        "id": "0-gZT6q4Se8z",
        "colab": {
          "base_uri": "https://localhost:8080/"
        },
        "outputId": "eb492545-986d-4fbc-c0ec-bd8fb900c243"
      },
      "execution_count": null,
      "outputs": [
        {
          "output_type": "stream",
          "name": "stdout",
          "text": [
            "=====猜數字遊戲開始=========\n",
            "\n",
            "\n",
            "請輸入數字(1~99):50\n",
            "再大一點\n",
            "您已經猜了:1次\n",
            "\n",
            "請輸入數字(51~99):80\n",
            "再大一點\n",
            "您已經猜了:2次\n",
            "\n",
            "請輸入數字(81~99):90\n",
            "再大一點\n",
            "您已經猜了:3次\n",
            "\n",
            "請輸入數字(91~99):95\n",
            "再小一點\n",
            "您已經猜了:4次\n",
            "\n",
            "請輸入數字(91~94):93\n",
            "再小一點\n",
            "您已經猜了:5次\n",
            "\n",
            "請輸入數字(91~92):92\n",
            "賓果!猜對了, 答案是:92\n",
            "您猜了:6次\n",
            "Game Over\n"
          ]
        }
      ]
    },
    {
      "cell_type": "markdown",
      "source": [
        "#20250517_class3\n",
        "## 軟體 :\n",
        "- anaconda 適合初學者開發，但是檔案較大\n",
        "- pycharm  要付費\n",
        "- visual studio code 免費開源軟體\n"
      ],
      "metadata": {
        "id": "E1JWaUSLz1q-"
      }
    },
    {
      "cell_type": "markdown",
      "source": [
        "## visual studio code\n",
        "- 安裝插件\n",
        "git\n",
        "基本設定指令(使用cmd)\n",
        "\n",
        "git config - -global user.name \"name\"\n",
        "\n",
        "git config - -global user.email \"mail\"\n",
        "\n",
        "git config - -global pull.rebase false\n",
        "\n",
        "git config - -global credential.name \"github的帳號\"\n",
        "\n",
        "git config - -list (檢查設定)"
      ],
      "metadata": {
        "id": "JHvbjg7UCJpg"
      }
    },
    {
      "cell_type": "markdown",
      "source": [
        "# conda\n",
        "- conda create -n <env-name> 建立新環境\n",
        "- conda info --envs          列出所有環境\n",
        "- conda create -n myenvironment python numpy pandas  建立環境時添加元件與命名\n",
        "- conda activate             將環境改回預設值\n",
        "# 安裝套件 via environment activation\n",
        "- conda activate myenvironment\n",
        "- conda install matplotlib\n",
        "\n",
        "# via command line option\n",
        "- conda install --name myenvironment matplotlib\n",
        "\n",
        "- conda --version   檢查版本\n",
        "- conda update conda 更新版本\n"
      ],
      "metadata": {
        "id": "Sl4KUm_KUI-X"
      }
    },
    {
      "cell_type": "code",
      "source": [],
      "metadata": {
        "id": "mGdUMgb4z_7H"
      },
      "execution_count": null,
      "outputs": []
    }
  ]
}